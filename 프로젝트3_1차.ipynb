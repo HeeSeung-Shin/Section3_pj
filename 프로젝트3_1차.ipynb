{
  "cells": [
    {
      "cell_type": "code",
      "execution_count": null,
      "id": "b9d39436",
      "metadata": {
        "id": "b9d39436"
      },
      "outputs": [],
      "source": [
        "import re\n",
        "import requests\n",
        "from bs4 import BeautifulSoup\n",
        "import pandas as pd\n",
        "from selenium import webdriver\n",
        "from selenium.webdriver.support.ui import WebDriverWait\n",
        "from selenium.webdriver.support import expected_conditions as EC\n",
        "from selenium.webdriver.common.by import By\n",
        "import sqlite3\n",
        "\n",
        "BASE_URL = \"https://movie.naver.com/movie\"\n",
        "\n",
        "\n",
        "def get_page(page_url):\n",
        "    \"\"\"\n",
        "    get_page 함수는 페이지 URL 을 받아 해당 페이지를 가져오고 파싱한 두\n",
        "    결과들을 리턴합니다.\n",
        "\n",
        "    예를 들어 `page_url` 이 `https://github.com` 으로 주어진다면\n",
        "        1. 해당 페이지를 requests 라이브러리를 통해서 가져오고 해당 response 객체를 page 변수로 저장\n",
        "        2. 1번의 response 의 html 을 BeautifulSoup 으로 파싱한 soup 객체를 soup 변수로 저장\n",
        "        3. 저장한 soup, page 들을 리턴하고 함수 종료\n",
        "\n",
        "    파라미터:\n",
        "        - page_url: 받아올 페이지 url 정보입니다.\n",
        "\n",
        "    리턴:\n",
        "        - soup: BeautifulSoup 으로 파싱한 객체\n",
        "        - page: requests 을 통해 받은 페이지 (requests 에서 사용하는 response\n",
        "        객체입니다).\n",
        "    \"\"\"\n",
        "    page = requests.get(page_url)\n",
        "    soup = BeautifulSoup(page.content, 'html.parser')\n",
        "\n",
        "\n",
        "\n",
        "    return soup, page\n",
        "\n",
        "\n",
        "def get_movie_code(movie_title):\n",
        "    \"\"\"\n",
        "    get_movie_code 함수는 영화 제목을 받으면 해당 영화 제목으로 검색했을 때\n",
        "    가장 먼저 나오는 영화의 아이디를 리턴합니다.\n",
        "\n",
        "    해당 영화의 아이디는 네이버에서 지정한대로 사용합니다. \n",
        "    여기에서 네이버에서 지정한 아이디란 예를 들어 다음과 같습니다:\n",
        "        - `https://movie.naver.com/` 에 접속\n",
        "        - 검색란에 영화 제목 (예: Soul) 입력 뒤 검색\n",
        "        - 해당 영화 페이지의 URL (예: `https://movie.naver.com/movie/bi/mi/basic.nhn?code=184517`) 의 'code=' 뒤에 나오는 숫자\n",
        "\n",
        "    파라미터:\n",
        "        - movie_title: 리뷰를 스크레이핑할 영화 제목이 담긴 문자열(str) 입니다.\n",
        "\n",
        "    리턴:\n",
        "        - 영화 아이디 번호: 네이버에서 지정한 영화의 아이디 번호가 담긴\n",
        "        숫자(int) 입니다.\n",
        "    \"\"\"\n",
        "    search_url = f\"{BASE_URL}/search/result.naver?query={movie_title}&section=all&ie=utf8\"\n",
        "    movie_code = None\n",
        "    soup, _ = get_page(search_url)   \n",
        "    search_list=soup.find('ul',class_='search_list_1')\n",
        "    movie_code= int(search_list.find('a')['href'].split('code=')[1])\n",
        "\n",
        "\n",
        "    return movie_code\n",
        "\n",
        "def get_url(movie_title):\n",
        "    movie_code= get_movie_code(movie_title)\n",
        "    return f\"{BASE_URL}/point/af/list.naver?st=mcode&sword={movie_code}&target=after&page=1\"\n",
        "\n",
        "\n",
        "def get_reviews(movie_code, page_num):\n",
        "    \"\"\"\n",
        "    get_reviews 함수는 리뷰들이 담긴 리뷰 리스트를 리턴해주는 함수입니다.\n",
        "\n",
        "    각 리뷰는 다음과 같은 파이썬 딕셔너리 형태입니다:\n",
        "        {\n",
        "            'review_text': 리뷰 글이 담긴 문자열(str) 입니다,\n",
        "            'review_star': 리뷰 별점이 담긴 숫자(int) 입니다\n",
        "        }\n",
        "\n",
        "    파라미터:\n",
        "        - movie_code: 네이버에서 지정한 영화 아이디 번호가 담긴 숫자(int)\n",
        "        입니다.\n",
        "        - page_num: 리뷰를 몇 번째 리뷰 페이지에서 가져와야 하는지 담긴\n",
        "        숫자(int) 입니다. 아무것도 주어지지 않은 경우 기본값은 1 입니다.\n",
        "\n",
        "    리턴:\n",
        "        - 리뷰 리스트: 스크레이핑한 리뷰들이 각각 파이썬 딕셔너리로 위에 명시된\n",
        "        형태로 저장된 리스트입니다.\n",
        "    \"\"\"\n",
        "    review_url = f\"{BASE_URL}/point/af/list.naver?st=mcode&sword={movie_code}&target=after&page={page_num}\"\n",
        "    review_list = []\n",
        "    soup, _ = get_page(review_url)   \n",
        "    score_list=soup.find('table',class_='list_netizen').find('tbody').find_all('tr')\n",
        "    \n",
        "    text_list = []\n",
        "    star_list = []\n",
        "    for reple in score_list:\n",
        "        text_list += [reple.find_all('td')[1].select_one('br').next_sibling.strip()]\n",
        "        star_list += [int(reple.find('div',class_='list_netizen_score').find('em').text)]\n",
        "        #review_dict['review_text'] = reple.find_all('td')[1].select_one('br').next_sibling.strip()\n",
        "        #review_dict['review_star'] = int(reple.find('div',class_='list_netizen_score').find('em').text)\n",
        "    \n",
        "    return text_list,star_list\n",
        "\n",
        "\n",
        "\n",
        "def scrape_by_page_num(movie_title,database_conn,database_cur, page_num=10):\n",
        "    \"\"\"\n",
        "    scrape_by_page_num 함수는 페이지 수를 기준으로 리뷰를 스크레이핑하는\n",
        "    함수입니다.\n",
        "\n",
        "    파라미터:\n",
        "        - movie_title: 리뷰를 스크레이핑할 영화 제목이 담긴 문자열(str) 입니다.\n",
        "        - page_num: 첫 번째 페이지에서부터 스크레이핑할 페이지 개수가 담긴\n",
        "        숫자(int) 입니다.\n",
        "\n",
        "    리턴:\n",
        "        - 리뷰 리스트: 주어진 page_num 만큼의 페이지에서부터 스크레이핑한\n",
        "        리뷰를 담은 파이썬 리스트입니다. (각 리뷰 항목은 get_reviews 에서\n",
        "        명시된 파이썬 딕셔너리 형태여야 합니다.)\n",
        "    \"\"\"\n",
        "    try: \n",
        "        page = requests.get(get_url(movie_title))\n",
        "        soup = BeautifulSoup(page.content, 'html.parser')\n",
        "    \n",
        "        if len(soup.find('div',class_='paging').find('div').find_all('a')) >10:\n",
        "            get_reviews(get_movie_code(movie_title), 10)\n",
        "            for page in range(1,page_num+1):\n",
        "                text_list,star_list=get_reviews(get_movie_code(movie_title), page)\n",
        "                cur.executemany('INSERT INTO Review(review_text,review_star,movie_title)VALUES(?,?,?)',list(zip(text_list,star_list,[movie_title]*len(text_list))))\n",
        "\n",
        "        else:\n",
        "            pass\n",
        "    except:\n",
        "        pass\n",
        "    conn.commit()\n",
        "    \n",
        "    \n"
      ]
    },
    {
      "cell_type": "code",
      "execution_count": null,
      "id": "a0e1503c",
      "metadata": {
        "id": "a0e1503c"
      },
      "outputs": [],
      "source": [
        "conn = sqlite3.connect('movie.db')\n",
        "cur = conn.cursor()\n",
        "cur.execute(\"\"\"CREATE TABLE IF NOT EXISTS Review (\n",
        "                        id INTEGER,\n",
        "                        review_text TEXT,\n",
        "                        review_star FLOAT,\n",
        "                        movie_title VARCHAR(128),\n",
        "                        PRIMARY KEY (id)\n",
        "                        );\"\"\")\n"
      ]
    },
    {
      "cell_type": "code",
      "execution_count": null,
      "id": "e66acb79",
      "metadata": {
        "id": "e66acb79"
      },
      "outputs": [],
      "source": []
    },
    {
      "cell_type": "code",
      "execution_count": null,
      "id": "a1b5c743",
      "metadata": {
        "scrolled": false,
        "id": "a1b5c743"
      },
      "outputs": [],
      "source": [
        "for movie_title in list(service_movie['movieNm'].values):\n",
        "    movie_review_df = scrape_by_page_num(movie_title,conn,cur)"
      ]
    },
    {
      "cell_type": "code",
      "execution_count": null,
      "id": "8a1149a1",
      "metadata": {
        "id": "8a1149a1"
      },
      "outputs": [],
      "source": [
        "query =cur.execute('SELECT * From Review')\n",
        "cols = [column[0] for column in query.description]\n",
        "movie_df = pd.DataFrame(data = query.fetchall(), columns=cols)"
      ]
    },
    {
      "cell_type": "code",
      "execution_count": null,
      "id": "adc983c9",
      "metadata": {
        "id": "adc983c9"
      },
      "outputs": [],
      "source": [
        "new_service=service_movie[service_movie['movieNm'].isin(movie_df['movie_title'].unique())]"
      ]
    },
    {
      "cell_type": "code",
      "execution_count": null,
      "id": "3a9e9d60",
      "metadata": {
        "id": "3a9e9d60",
        "outputId": "46d55cb3-83f8-4de1-d047-0edd17e541b6"
      },
      "outputs": [
        {
          "name": "stderr",
          "output_type": "stream",
          "text": [
            "C:\\Users\\huise\\AppData\\Local\\Temp\\ipykernel_17692\\2074088602.py:1: SettingWithCopyWarning: \n",
            "A value is trying to be set on a copy of a slice from a DataFrame\n",
            "\n",
            "See the caveats in the documentation: https://pandas.pydata.org/pandas-docs/stable/user_guide/indexing.html#returning-a-view-versus-a-copy\n",
            "  new_service.drop('Unnamed: 0',axis=1,inplace=True)\n"
          ]
        }
      ],
      "source": [
        "new_service.drop('Unnamed: 0',axis=1,inplace=True)"
      ]
    },
    {
      "cell_type": "code",
      "execution_count": null,
      "id": "70bfb6e5",
      "metadata": {
        "id": "70bfb6e5"
      },
      "outputs": [],
      "source": [
        "new_service.reset_index(drop=True, inplace=True)"
      ]
    },
    {
      "cell_type": "code",
      "execution_count": null,
      "id": "2cc751b2",
      "metadata": {
        "id": "2cc751b2"
      },
      "outputs": [],
      "source": [
        "new_service.to_csv('서비스영화최종.csv')"
      ]
    },
    {
      "cell_type": "code",
      "execution_count": null,
      "id": "6fe5f813",
      "metadata": {
        "id": "6fe5f813"
      },
      "outputs": [],
      "source": [
        "service_movi"
      ]
    },
    {
      "cell_type": "code",
      "execution_count": null,
      "id": "399cf699",
      "metadata": {
        "id": "399cf699"
      },
      "outputs": [],
      "source": [
        "service_movie=pd.read_csv('서비스영화목록.csv')"
      ]
    },
    {
      "cell_type": "code",
      "execution_count": null,
      "id": "f5df19a2",
      "metadata": {
        "id": "f5df19a2"
      },
      "outputs": [],
      "source": [
        "i"
      ]
    },
    {
      "cell_type": "markdown",
      "source": [
        "# Kobis  APi"
      ],
      "metadata": {
        "id": "142f284c"
      },
      "id": "142f284c"
    },
    {
      "cell_type": "code",
      "execution_count": null,
      "id": "6d72cff7",
      "metadata": {
        "id": "6d72cff7"
      },
      "outputs": [],
      "source": [
        "#\n",
        "import os\n",
        "import sys\n",
        "import json\n",
        "import requests\n",
        "import pandas as pd\n",
        "import sqlite3\n",
        "key = \"api키\"\n",
        "num=0\n",
        "movie_df = pd.DataFrame(columns= ['movieNm', 'genreAlt', 'nationAlt','director','company'])\n",
        "while True:\n",
        "    num+=1\n",
        "    url = f\"http://www.kobis.or.kr/kobisopenapi/webservice/rest/movie/searchMovieList.json?key={key}&curPage={num}&itemPerPage=100\" \n",
        "    try: \n",
        "        request = requests.get(url)\n",
        "        movie = json.loads(request.content)\n",
        "        start =0+100*(num-1)\n",
        "        end = 100*num\n",
        "        for idx in range(start,end):\n",
        "            movie_df.loc[idx,'movieNm'] = movie['movieListResult']['movieList'][idx%100]['movieNm']\n",
        "            movie_df.loc[idx,'prdtYear'] = movie['movieListResult']['movieList'][idx%100]['prdtYear']\n",
        "            movie_df.loc[idx,'genreAlt'] = movie['movieListResult']['movieList'][idx%100]['genreAlt']\n",
        "            movie_df.loc[idx,'nationAlt'] = movie['movieListResult']['movieList'][idx%100]['nationAlt']\n",
        "            movie_df.loc[idx,'director'] = [director['peopleNm'] for director in movie['movieListResult']['movieList'][idx%100]['directors']]\n",
        "            movie_df.loc[idx,'company'] = [company['companyNm'] for company in movie['movieListResult']['movieList'][idx%100]['companys']]\n",
        "    except:\n",
        "        break"
      ]
    },
    {
      "cell_type": "code",
      "execution_count": null,
      "id": "985dc955",
      "metadata": {
        "id": "985dc955"
      },
      "outputs": [],
      "source": [
        "# 에로영화는 서비스 항목에서 제외할 것이기 때문에 삭제해준다.\n",
        "# 장르가 따로 표기 되지 않은 영화는 제거해준다.\n",
        "\n",
        "service_movie= movie_df[(-movie_df['genreAlt'].str.contains('에로')) & (movie_df['genreAlt']!='')]"
      ]
    },
    {
      "cell_type": "code",
      "execution_count": null,
      "id": "301f42bc",
      "metadata": {
        "id": "301f42bc"
      },
      "outputs": [],
      "source": [
        "# 아무것도 반환되지 않은(Nan)데이터 빼기\n",
        "for col in service_movie.columns:\n",
        "    service_movie =service_movie[service_movie[cool].astype('bool') == True]\n"
      ]
    },
    {
      "cell_type": "code",
      "source": [
        "# 데이터 베이스 저장\n",
        "conn = sqlite3('movie.db')\n",
        "cur = sqlite3('movie.db')\n",
        "service_movie.to_csv('service_movie',conn)"
      ],
      "metadata": {
        "id": "qF7cPuuycxq7"
      },
      "id": "qF7cPuuycxq7",
      "execution_count": null,
      "outputs": []
    },
    {
      "cell_type": "markdown",
      "source": [
        "# modeling위한 크롤링"
      ],
      "metadata": {
        "id": "ZyS_tB6xdy1O"
      },
      "id": "ZyS_tB6xdy1O"
    },
    {
      "cell_type": "code",
      "execution_count": 1,
      "id": "05cdbec0",
      "metadata": {
        "scrolled": false,
        "id": "05cdbec0",
        "outputId": "bdaaf5ef-d6da-4d3c-fab8-e53c61514dbc",
        "colab": {
          "base_uri": "https://localhost:8080/"
        }
      },
      "outputs": [
        {
          "output_type": "stream",
          "name": "stdout",
          "text": [
            "\n"
          ]
        }
      ],
      "source": [
        "# modeling위한 최근 댓글 10000개 크롤링\n",
        "import random\n",
        "import time\n",
        "\n",
        "url = \"https://movie.naver.com/movie/point/af/list.nhn?&page=\"\n",
        "headers = {'User-Agent' : 'Mozilla/5.0 (Macintosh; Intel Mac OS X 10_15_7) AppleWebKit/537.36 (KHTML, like Gecko) Chrome/91.0.4472.101 Safari/537.36'}\n",
        "\n",
        "\n",
        "score_list = []\n",
        "comment_list = []\n",
        "\n",
        "\n",
        "# Tag 꺼내기\n",
        "for page in range(1,1000):\n",
        "    web = requests.get(url+str(page), headers = headers).content\n",
        "    soup = BeautifulSoup( web, 'html.parser')\n",
        "    \n",
        "    star_score_lst = soup.find_all('div',{'class':\"list_netizen_score\"})\n",
        "    for star_score in star_score_lst:\n",
        "        score_list.append(star_score.find('em').text)\n",
        "        \n",
        "    comment_lst = soup.find_all('td', {'class':\"title\"})\n",
        "    for comment in comment_lst:\n",
        "\n",
        "        # br class 다음 문자열을 불러옴. next_sibling\n",
        "        comment_list.append(comment.select_one('br').next_sibling.strip())\n",
        "    \n",
        "    interval = round(random.uniform(0.2, 1.2),2)\n",
        "    time.sleep(interval)\n",
        "    \n",
        "    if page%100 ==0:\n",
        "        print(page)\n",
        "        \n",
        "cur.executemany('INSERT INTO Review_model(review_text,review_star,movie_title)VALUES(?,?)',list(zip(comment_list,score_list)))\n",
        "conn.commit()"
      ]
    },
    {
      "cell_type": "code",
      "execution_count": null,
      "id": "2b5fdd70",
      "metadata": {
        "id": "2b5fdd70"
      },
      "outputs": [],
      "source": [
        "query =cur.execute('SELECT * From Review_model')\n",
        "cols = [column[0] for column in query.description]\n",
        "df_model = pd.DataFrame(data = query.fetchall(), columns=cols)"
      ]
    },
    {
      "cell_type": "code",
      "execution_count": null,
      "id": "be035105",
      "metadata": {
        "id": "be035105",
        "outputId": "3547ae7d-1eaa-4a5f-be37-3176939f6576"
      },
      "outputs": [
        {
          "data": {
            "text/html": [
              "<div>\n",
              "<style scoped>\n",
              "    .dataframe tbody tr th:only-of-type {\n",
              "        vertical-align: middle;\n",
              "    }\n",
              "\n",
              "    .dataframe tbody tr th {\n",
              "        vertical-align: top;\n",
              "    }\n",
              "\n",
              "    .dataframe thead th {\n",
              "        text-align: right;\n",
              "    }\n",
              "</style>\n",
              "<table border=\"1\" class=\"dataframe\">\n",
              "  <thead>\n",
              "    <tr style=\"text-align: right;\">\n",
              "      <th></th>\n",
              "      <th>id</th>\n",
              "      <th>review_text</th>\n",
              "      <th>review_star</th>\n",
              "    </tr>\n",
              "  </thead>\n",
              "  <tbody>\n",
              "    <tr>\n",
              "      <th>0</th>\n",
              "      <td>1</td>\n",
              "      <td>스토리를 이해하면서 더욱 흥미롭게 감상했어요</td>\n",
              "      <td>8.0</td>\n",
              "    </tr>\n",
              "    <tr>\n",
              "      <th>1</th>\n",
              "      <td>2</td>\n",
              "      <td>같은 길을 걷는다고 생각했는데 만날수 없는 평행선이었다.</td>\n",
              "      <td>9.0</td>\n",
              "    </tr>\n",
              "    <tr>\n",
              "      <th>2</th>\n",
              "      <td>3</td>\n",
              "      <td>초반 5분은 시선을 확끄나 이어가질 못한다 좀 유치하고 이야기가 허술한 부분이 있지...</td>\n",
              "      <td>7.0</td>\n",
              "    </tr>\n",
              "    <tr>\n",
              "      <th>3</th>\n",
              "      <td>4</td>\n",
              "      <td>적당함이 없네 ,보고 속이 내내 울렁거림. 비위 낮은 분들 절대로 보지마세여, ,</td>\n",
              "      <td>1.0</td>\n",
              "    </tr>\n",
              "    <tr>\n",
              "      <th>4</th>\n",
              "      <td>5</td>\n",
              "      <td>지루할틈이 없었어요. 넘 재미있게봤어요</td>\n",
              "      <td>10.0</td>\n",
              "    </tr>\n",
              "    <tr>\n",
              "      <th>...</th>\n",
              "      <td>...</td>\n",
              "      <td>...</td>\n",
              "      <td>...</td>\n",
              "    </tr>\n",
              "    <tr>\n",
              "      <th>9995</th>\n",
              "      <td>9996</td>\n",
              "      <td>서인국 조연이냐 머이리 빨리 뒤지냐</td>\n",
              "      <td>2.0</td>\n",
              "    </tr>\n",
              "    <tr>\n",
              "      <th>9996</th>\n",
              "      <td>9997</td>\n",
              "      <td>간만에  너무 재밌게 봣네요</td>\n",
              "      <td>10.0</td>\n",
              "    </tr>\n",
              "    <tr>\n",
              "      <th>9997</th>\n",
              "      <td>9998</td>\n",
              "      <td></td>\n",
              "      <td>10.0</td>\n",
              "    </tr>\n",
              "    <tr>\n",
              "      <th>9998</th>\n",
              "      <td>9999</td>\n",
              "      <td></td>\n",
              "      <td>10.0</td>\n",
              "    </tr>\n",
              "    <tr>\n",
              "      <th>9999</th>\n",
              "      <td>10000</td>\n",
              "      <td>인정하고 또 인정하는 극장판입니다.</td>\n",
              "      <td>10.0</td>\n",
              "    </tr>\n",
              "  </tbody>\n",
              "</table>\n",
              "<p>10000 rows × 3 columns</p>\n",
              "</div>"
            ],
            "text/plain": [
              "         id                                        review_text  review_star\n",
              "0         1                           스토리를 이해하면서 더욱 흥미롭게 감상했어요          8.0\n",
              "1         2                    같은 길을 걷는다고 생각했는데 만날수 없는 평행선이었다.          9.0\n",
              "2         3  초반 5분은 시선을 확끄나 이어가질 못한다 좀 유치하고 이야기가 허술한 부분이 있지...          7.0\n",
              "3         4      적당함이 없네 ,보고 속이 내내 울렁거림. 비위 낮은 분들 절대로 보지마세여, ,          1.0\n",
              "4         5                              지루할틈이 없었어요. 넘 재미있게봤어요         10.0\n",
              "...     ...                                                ...          ...\n",
              "9995   9996                                서인국 조연이냐 머이리 빨리 뒤지냐          2.0\n",
              "9996   9997                                    간만에  너무 재밌게 봣네요         10.0\n",
              "9997   9998                                                            10.0\n",
              "9998   9999                                                            10.0\n",
              "9999  10000                                인정하고 또 인정하는 극장판입니다.         10.0\n",
              "\n",
              "[10000 rows x 3 columns]"
            ]
          },
          "execution_count": 118,
          "metadata": {},
          "output_type": "execute_result"
        }
      ],
      "source": [
        "df_model"
      ]
    },
    {
      "cell_type": "markdown",
      "source": [
        "# 모델링 위한 전처리"
      ],
      "metadata": {
        "id": "iWgFrqxJd2lL"
      },
      "id": "iWgFrqxJd2lL"
    },
    {
      "cell_type": "code",
      "execution_count": null,
      "id": "c3d884c4",
      "metadata": {
        "id": "c3d884c4"
      },
      "outputs": [],
      "source": [
        "# 텍스트 없이 별점만 남긴 경우 제거\n",
        "df_model=df_model[df_model['review_text']!='']"
      ]
    },
    {
      "cell_type": "code",
      "execution_count": null,
      "id": "1cc77dd9",
      "metadata": {
        "id": "1cc77dd9"
      },
      "outputs": [],
      "source": [
        "# 4,5,6점 데이터 제거, 10,9,8,7점 리뷰 - 긍정 1,2,3점 부정으로 분류\n",
        "df_model=df_model[-df_model['review_star'].isin([4,5,6])]"
      ]
    },
    {
      "cell_type": "code",
      "execution_count": null,
      "id": "f36395ec",
      "metadata": {
        "id": "f36395ec"
      },
      "outputs": [],
      "source": [
        "def neg_pos(x):\n",
        "    if x >=7:\n",
        "        return 1\n",
        "    else:\n",
        "        return 0"
      ]
    },
    {
      "cell_type": "code",
      "execution_count": null,
      "id": "b11efb4d",
      "metadata": {
        "id": "b11efb4d",
        "outputId": "c9ffe6d8-4329-466a-a097-e8cbb5364f99"
      },
      "outputs": [
        {
          "name": "stderr",
          "output_type": "stream",
          "text": [
            "C:\\Users\\huise\\AppData\\Local\\Temp\\ipykernel_17692\\2155036898.py:1: SettingWithCopyWarning: \n",
            "A value is trying to be set on a copy of a slice from a DataFrame.\n",
            "Try using .loc[row_indexer,col_indexer] = value instead\n",
            "\n",
            "See the caveats in the documentation: https://pandas.pydata.org/pandas-docs/stable/user_guide/indexing.html#returning-a-view-versus-a-copy\n",
            "  df_model['positiveness'] = df_model['review_star'].apply(lambda x: neg_pos(x))\n"
          ]
        }
      ],
      "source": [
        "df_model['positiveness'] = df_model['review_star'].apply(lambda x: neg_pos(x))"
      ]
    },
    {
      "cell_type": "code",
      "execution_count": null,
      "id": "a8842304",
      "metadata": {
        "scrolled": false,
        "id": "a8842304",
        "outputId": "a3f3f27f-9ea5-4aac-994d-81ec7b340ca0"
      },
      "outputs": [
        {
          "data": {
            "text/html": [
              "<div>\n",
              "<style scoped>\n",
              "    .dataframe tbody tr th:only-of-type {\n",
              "        vertical-align: middle;\n",
              "    }\n",
              "\n",
              "    .dataframe tbody tr th {\n",
              "        vertical-align: top;\n",
              "    }\n",
              "\n",
              "    .dataframe thead th {\n",
              "        text-align: right;\n",
              "    }\n",
              "</style>\n",
              "<table border=\"1\" class=\"dataframe\">\n",
              "  <thead>\n",
              "    <tr style=\"text-align: right;\">\n",
              "      <th></th>\n",
              "      <th>review_text</th>\n",
              "      <th>review_star</th>\n",
              "      <th>positiveness</th>\n",
              "    </tr>\n",
              "  </thead>\n",
              "  <tbody>\n",
              "    <tr>\n",
              "      <th>0</th>\n",
              "      <td>스토리를 이해하면서 더욱 흥미롭게 감상했어요</td>\n",
              "      <td>8.0</td>\n",
              "      <td>1</td>\n",
              "    </tr>\n",
              "    <tr>\n",
              "      <th>1</th>\n",
              "      <td>같은 길을 걷는다고 생각했는데 만날수 없는 평행선이었다.</td>\n",
              "      <td>9.0</td>\n",
              "      <td>1</td>\n",
              "    </tr>\n",
              "    <tr>\n",
              "      <th>2</th>\n",
              "      <td>초반 5분은 시선을 확끄나 이어가질 못한다 좀 유치하고 이야기가 허술한 부분이 있지...</td>\n",
              "      <td>7.0</td>\n",
              "      <td>1</td>\n",
              "    </tr>\n",
              "    <tr>\n",
              "      <th>3</th>\n",
              "      <td>적당함이 없네 ,보고 속이 내내 울렁거림. 비위 낮은 분들 절대로 보지마세여, ,</td>\n",
              "      <td>1.0</td>\n",
              "      <td>-1</td>\n",
              "    </tr>\n",
              "    <tr>\n",
              "      <th>4</th>\n",
              "      <td>지루할틈이 없었어요. 넘 재미있게봤어요</td>\n",
              "      <td>10.0</td>\n",
              "      <td>1</td>\n",
              "    </tr>\n",
              "    <tr>\n",
              "      <th>...</th>\n",
              "      <td>...</td>\n",
              "      <td>...</td>\n",
              "      <td>...</td>\n",
              "    </tr>\n",
              "    <tr>\n",
              "      <th>8178</th>\n",
              "      <td>재밌는데 왜들 그러지 ㅋㅋ 잔인하긴함</td>\n",
              "      <td>10.0</td>\n",
              "      <td>1</td>\n",
              "    </tr>\n",
              "    <tr>\n",
              "      <th>8179</th>\n",
              "      <td>다큐형식의 전쟁영화 중에서도 긴장감을 놓지 않는다</td>\n",
              "      <td>7.0</td>\n",
              "      <td>1</td>\n",
              "    </tr>\n",
              "    <tr>\n",
              "      <th>8180</th>\n",
              "      <td>서인국 조연이냐 머이리 빨리 뒤지냐</td>\n",
              "      <td>2.0</td>\n",
              "      <td>-1</td>\n",
              "    </tr>\n",
              "    <tr>\n",
              "      <th>8181</th>\n",
              "      <td>간만에  너무 재밌게 봣네요</td>\n",
              "      <td>10.0</td>\n",
              "      <td>1</td>\n",
              "    </tr>\n",
              "    <tr>\n",
              "      <th>8182</th>\n",
              "      <td>인정하고 또 인정하는 극장판입니다.</td>\n",
              "      <td>10.0</td>\n",
              "      <td>1</td>\n",
              "    </tr>\n",
              "  </tbody>\n",
              "</table>\n",
              "<p>8183 rows × 3 columns</p>\n",
              "</div>"
            ],
            "text/plain": [
              "                                            review_text  review_star  \\\n",
              "0                              스토리를 이해하면서 더욱 흥미롭게 감상했어요          8.0   \n",
              "1                       같은 길을 걷는다고 생각했는데 만날수 없는 평행선이었다.          9.0   \n",
              "2     초반 5분은 시선을 확끄나 이어가질 못한다 좀 유치하고 이야기가 허술한 부분이 있지...          7.0   \n",
              "3         적당함이 없네 ,보고 속이 내내 울렁거림. 비위 낮은 분들 절대로 보지마세여, ,          1.0   \n",
              "4                                 지루할틈이 없었어요. 넘 재미있게봤어요         10.0   \n",
              "...                                                 ...          ...   \n",
              "8178                               재밌는데 왜들 그러지 ㅋㅋ 잔인하긴함         10.0   \n",
              "8179                        다큐형식의 전쟁영화 중에서도 긴장감을 놓지 않는다          7.0   \n",
              "8180                                서인국 조연이냐 머이리 빨리 뒤지냐          2.0   \n",
              "8181                                    간만에  너무 재밌게 봣네요         10.0   \n",
              "8182                                인정하고 또 인정하는 극장판입니다.         10.0   \n",
              "\n",
              "      positiveness  \n",
              "0                1  \n",
              "1                1  \n",
              "2                1  \n",
              "3               -1  \n",
              "4                1  \n",
              "...            ...  \n",
              "8178             1  \n",
              "8179             1  \n",
              "8180            -1  \n",
              "8181             1  \n",
              "8182             1  \n",
              "\n",
              "[8183 rows x 3 columns]"
            ]
          },
          "execution_count": 165,
          "metadata": {},
          "output_type": "execute_result"
        }
      ],
      "source": [
        "df_model"
      ]
    },
    {
      "cell_type": "code",
      "execution_count": null,
      "id": "5a70af15",
      "metadata": {
        "id": "5a70af15",
        "outputId": "c66fea5e-51fa-4be7-8a57-60fadc81aefb"
      },
      "outputs": [
        {
          "name": "stderr",
          "output_type": "stream",
          "text": [
            "C:\\Users\\huise\\AppData\\Local\\Temp\\ipykernel_17692\\3078714020.py:1: SettingWithCopyWarning: \n",
            "A value is trying to be set on a copy of a slice from a DataFrame\n",
            "\n",
            "See the caveats in the documentation: https://pandas.pydata.org/pandas-docs/stable/user_guide/indexing.html#returning-a-view-versus-a-copy\n",
            "  df_model.drop('id',axis=1,inplace=True)\n"
          ]
        }
      ],
      "source": [
        "df_model.drop('id',axis=1,inplace=True)\n",
        "df_model.reset_index(drop=True,inplace=True)"
      ]
    },
    {
      "cell_type": "code",
      "source": [
        "!pip install konlpy"
      ],
      "metadata": {
        "colab": {
          "base_uri": "https://localhost:8080/"
        },
        "id": "avhKYGz_dWoT",
        "outputId": "275397ce-81bd-4117-f106-0aa9d44eaec5"
      },
      "id": "avhKYGz_dWoT",
      "execution_count": null,
      "outputs": [
        {
          "output_type": "stream",
          "name": "stdout",
          "text": [
            "Looking in indexes: https://pypi.org/simple, https://us-python.pkg.dev/colab-wheels/public/simple/\n",
            "Collecting konlpy\n",
            "  Downloading konlpy-0.6.0-py2.py3-none-any.whl (19.4 MB)\n",
            "\u001b[K     |████████████████████████████████| 19.4 MB 1.8 MB/s \n",
            "\u001b[?25hRequirement already satisfied: lxml>=4.1.0 in /usr/local/lib/python3.7/dist-packages (from konlpy) (4.9.1)\n",
            "Requirement already satisfied: numpy>=1.6 in /usr/local/lib/python3.7/dist-packages (from konlpy) (1.21.6)\n",
            "Collecting JPype1>=0.7.0\n",
            "  Downloading JPype1-1.4.1-cp37-cp37m-manylinux_2_12_x86_64.manylinux2010_x86_64.whl (465 kB)\n",
            "\u001b[K     |████████████████████████████████| 465 kB 44.5 MB/s \n",
            "\u001b[?25hRequirement already satisfied: packaging in /usr/local/lib/python3.7/dist-packages (from JPype1>=0.7.0->konlpy) (21.3)\n",
            "Requirement already satisfied: typing-extensions in /usr/local/lib/python3.7/dist-packages (from JPype1>=0.7.0->konlpy) (4.1.1)\n",
            "Requirement already satisfied: pyparsing!=3.0.5,>=2.0.2 in /usr/local/lib/python3.7/dist-packages (from packaging->JPype1>=0.7.0->konlpy) (3.0.9)\n",
            "Installing collected packages: JPype1, konlpy\n",
            "Successfully installed JPype1-1.4.1 konlpy-0.6.0\n"
          ]
        }
      ]
    },
    {
      "cell_type": "markdown",
      "source": [
        "# 모델링"
      ],
      "metadata": {
        "id": "eL1dSS8KeOp3"
      },
      "id": "eL1dSS8KeOp3"
    },
    {
      "cell_type": "code",
      "execution_count": null,
      "id": "1fd05459",
      "metadata": {
        "id": "1fd05459",
        "outputId": "9eb716bb-048c-4258-a5c7-7c9a9b15580c",
        "colab": {
          "base_uri": "https://localhost:8080/"
        }
      },
      "outputs": [
        {
          "output_type": "stream",
          "name": "stderr",
          "text": [
            "[nltk_data] Downloading package stopwords to /root/nltk_data...\n",
            "[nltk_data]   Package stopwords is already up-to-date!\n",
            "[nltk_data] Downloading package vader_lexicon to /root/nltk_data...\n",
            "[nltk_data]   Package vader_lexicon is already up-to-date!\n"
          ]
        }
      ],
      "source": [
        "import nltk\n",
        "nltk.download('stopwords')\n",
        "from nltk.corpus import stopwords\n",
        "from tqdm import tqdm\n",
        "import re\n",
        "import collections\n",
        "from wordcloud import STOPWORDS\n",
        "from scipy.sparse import csr_matrix\n",
        "from nltk.sentiment.vader import SentimentIntensityAnalyzer\n",
        "nltk.download('vader_lexicon')\n",
        "from wordcloud import WordCloud\n",
        "from konlpy.tag import Okt\n",
        "\n",
        "from sklearn.feature_extraction.text import TfidfVectorizer\n",
        "from sklearn.feature_extraction.text import CountVectorizer\n",
        "from sklearn.preprocessing import StandardScaler\n",
        "from sklearn.preprocessing import Normalizer\n",
        "from sklearn.preprocessing import MinMaxScaler\n",
        "from sklearn.linear_model import LogisticRegression\n",
        "from sklearn.metrics import accuracy_score, precision_score, recall_score, f1_score\n",
        "from sklearn.metrics import auc\n",
        "from sklearn.metrics import roc_curve, auc"
      ]
    },
    {
      "cell_type": "code",
      "execution_count": null,
      "id": "33a62131",
      "metadata": {
        "id": "33a62131"
      },
      "outputs": [],
      "source": [
        "def apply_regular_expression(text):\n",
        "    hangul = re.compile('[^ ㄱ-ㅣ 가-힣]') \n",
        "    result = hangul.sub('', text)  \n",
        "    return result"
      ]
    },
    {
      "cell_type": "code",
      "execution_count": 2,
      "id": "c5f7e4b9",
      "metadata": {
        "id": "c5f7e4b9",
        "colab": {
          "base_uri": "https://localhost:8080/"
        },
        "outputId": "e2461e9a-09c5-49b0-f4e5-74bd252a50f0"
      },
      "outputs": [
        {
          "output_type": "stream",
          "name": "stdout",
          "text": [
            "\n"
          ]
        }
      ],
      "source": [
        "#말뭉치 만들기\n",
        "corpus = \"\".join(df_model['review_text'].tolist())\n",
        "# 정규식 적용\n",
        "corpus_accept = apply_regular_expression(corpus)\n"
      ]
    },
    {
      "cell_type": "code",
      "execution_count": null,
      "id": "0f811b5b",
      "metadata": {
        "id": "0f811b5b"
      },
      "outputs": [],
      "source": [
        "raw_pos_tagged = Okt().pos(corpus, norm=True, stem=True)"
      ]
    },
    {
      "cell_type": "code",
      "execution_count": null,
      "id": "4a0ba594",
      "metadata": {
        "id": "4a0ba594"
      },
      "outputs": [],
      "source": [
        "# set 함수를 사용하여 raw_pos_tagged pos값을 가져오고 중복은 제거한 순수한 pos값을 남긴다.\n",
        "set_of_tag = set()\n",
        "for tag in raw_pos_tagged:\n",
        "    set_of_tag.add(tag[1])"
      ]
    },
    {
      "cell_type": "code",
      "execution_count": null,
      "id": "0756f419",
      "metadata": {
        "id": "0756f419"
      },
      "outputs": [],
      "source": [
        "stopwords = pd.read_csv(\"https://raw.githubusercontent.com/yoonkt200/FastCampusDataset/master/korean_stopwords.txt\").values.tolist()\n",
        "stop_words = set([x[0] for x in stopwords])\n",
        "movie_words = {'하다', '보다','있다','없다','너무','이다','영화',\n",
        "           '되다','않다','같다','만들다','그냥','보고','정말',\n",
        "           '가다','들다','진짜','싶다','정도','오다','많다',\n",
        "           '연기','배우','그리고','부분','나다','편이','분들',\n",
        "            '작품','영화','아니다','되는','겁니다','감독','합니다','싶을','같네'}\n",
        "stop_words = stop_words.union(movie_words)"
      ]
    },
    {
      "cell_type": "code",
      "execution_count": null,
      "id": "071efcc3",
      "metadata": {
        "id": "071efcc3",
        "outputId": "d4eb0d29-2ef4-4ea3-fc23-34305543eead"
      },
      "outputs": [
        {
          "data": {
            "text/plain": [
              "['스토리', '이해', '더욱', '흥미롭다', '감상', '걷다', '생각', '날수', '평행선', '초반']"
            ]
          },
          "execution_count": 159,
          "metadata": {},
          "output_type": "execute_result"
        }
      ],
      "source": [
        "word_cleaned = []\n",
        "\n",
        "for word in raw_pos_tagged:\n",
        "    if word[1] not in [\"Josa\", \"Eomi\", \"Punctuation\", \"Foreign\", \"Number\", \"Hashtag\", \"URL\",\"PreEomi\"]: \n",
        "        if (len(word[0]) != 1) & (word[0] not in stop_words):\n",
        "            word_cleaned.append(word[0])\n",
        "        else :\n",
        "            stop_words.add(word[0])\n",
        "    \n",
        "stop_words_lst = list(stop_words)\n",
        "word_cleaned[:10]"
      ]
    },
    {
      "cell_type": "code",
      "execution_count": null,
      "id": "2766e857",
      "metadata": {
        "id": "2766e857"
      },
      "outputs": [],
      "source": [
        "from sklearn.feature_extraction.text import CountVectorizer, TfidfVectorizer"
      ]
    },
    {
      "cell_type": "code",
      "execution_count": null,
      "id": "55f0b12d",
      "metadata": {
        "id": "55f0b12d",
        "outputId": "8d832f85-fb73-4b68-abb9-c95662e87bfb"
      },
      "outputs": [
        {
          "name": "stderr",
          "output_type": "stream",
          "text": [
            "C:\\Users\\huise\\anaconda3\\lib\\site-packages\\sklearn\\utils\\deprecation.py:87: FutureWarning: Function get_feature_names is deprecated; get_feature_names is deprecated in 1.0 and will be removed in 1.2. Please use get_feature_names_out instead.\n",
            "  warnings.warn(msg, category=FutureWarning)\n"
          ]
        }
      ],
      "source": [
        "def text_cleaning(text):\n",
        "    hangul = re.compile('[^ a-z A-Z ㄱ-ㅣ 가-힣]')  # 정규 표현식 처리\n",
        "    result = hangul.sub('', text)\n",
        "    okt = Okt()  # 형태소 추출\n",
        "    words = okt.morphs(result, norm=True)\n",
        "    words = [x for x in words if len(x) > 1]  # 한글자 키워드 제거\n",
        "    words = [x for x in words if x not in stop_words_lst]  # 불용어 제거\n",
        "    return words\n",
        "\n",
        "vect = CountVectorizer(tokenizer = lambda x: text_cleaning(x))\n",
        "bow_vect = vect.fit_transform(df_model['review_text'].tolist())\n",
        "word_list = vect.get_feature_names()\n",
        "count_list = bow_vect.toarray().sum(axis=0)"
      ]
    },
    {
      "cell_type": "code",
      "execution_count": null,
      "id": "323b2ca7",
      "metadata": {
        "scrolled": true,
        "id": "323b2ca7",
        "outputId": "90941796-9db9-45b7-a02e-35dfc5c9249a"
      },
      "outputs": [
        {
          "data": {
            "text/html": [
              "<div>\n",
              "<style scoped>\n",
              "    .dataframe tbody tr th:only-of-type {\n",
              "        vertical-align: middle;\n",
              "    }\n",
              "\n",
              "    .dataframe tbody tr th {\n",
              "        vertical-align: top;\n",
              "    }\n",
              "\n",
              "    .dataframe thead th {\n",
              "        text-align: right;\n",
              "    }\n",
              "</style>\n",
              "<table border=\"1\" class=\"dataframe\">\n",
              "  <thead>\n",
              "    <tr style=\"text-align: right;\">\n",
              "      <th></th>\n",
              "      <th>0</th>\n",
              "      <th>1</th>\n",
              "    </tr>\n",
              "  </thead>\n",
              "  <tbody>\n",
              "    <tr>\n",
              "      <th>18927</th>\n",
              "      <td>힘들어지는거</td>\n",
              "      <td>1</td>\n",
              "    </tr>\n",
              "    <tr>\n",
              "      <th>18928</th>\n",
              "      <td>힘들어진거</td>\n",
              "      <td>1</td>\n",
              "    </tr>\n",
              "    <tr>\n",
              "      <th>18929</th>\n",
              "      <td>힘들어하고</td>\n",
              "      <td>1</td>\n",
              "    </tr>\n",
              "    <tr>\n",
              "      <th>18930</th>\n",
              "      <td>힘들어하는데</td>\n",
              "      <td>1</td>\n",
              "    </tr>\n",
              "    <tr>\n",
              "      <th>18931</th>\n",
              "      <td>힘들었고</td>\n",
              "      <td>1</td>\n",
              "    </tr>\n",
              "    <tr>\n",
              "      <th>18932</th>\n",
              "      <td>힘들었네요</td>\n",
              "      <td>1</td>\n",
              "    </tr>\n",
              "    <tr>\n",
              "      <th>18933</th>\n",
              "      <td>힘들었다</td>\n",
              "      <td>2</td>\n",
              "    </tr>\n",
              "    <tr>\n",
              "      <th>18934</th>\n",
              "      <td>힘들었던</td>\n",
              "      <td>2</td>\n",
              "    </tr>\n",
              "    <tr>\n",
              "      <th>18935</th>\n",
              "      <td>힘들었어도</td>\n",
              "      <td>1</td>\n",
              "    </tr>\n",
              "    <tr>\n",
              "      <th>18936</th>\n",
              "      <td>힘들었어요</td>\n",
              "      <td>2</td>\n",
              "    </tr>\n",
              "    <tr>\n",
              "      <th>18937</th>\n",
              "      <td>힘들었을건데</td>\n",
              "      <td>1</td>\n",
              "    </tr>\n",
              "    <tr>\n",
              "      <th>18938</th>\n",
              "      <td>힘들었을것</td>\n",
              "      <td>1</td>\n",
              "    </tr>\n",
              "    <tr>\n",
              "      <th>18939</th>\n",
              "      <td>힘들었을까</td>\n",
              "      <td>2</td>\n",
              "    </tr>\n",
              "    <tr>\n",
              "      <th>18940</th>\n",
              "      <td>힘들지</td>\n",
              "      <td>1</td>\n",
              "    </tr>\n",
              "    <tr>\n",
              "      <th>18941</th>\n",
              "      <td>힘듦</td>\n",
              "      <td>3</td>\n",
              "    </tr>\n",
              "    <tr>\n",
              "      <th>18942</th>\n",
              "      <td>힘듦과</td>\n",
              "      <td>1</td>\n",
              "    </tr>\n",
              "    <tr>\n",
              "      <th>18943</th>\n",
              "      <td>힘듦도</td>\n",
              "      <td>1</td>\n",
              "    </tr>\n",
              "    <tr>\n",
              "      <th>18944</th>\n",
              "      <td>힘듭니다</td>\n",
              "      <td>1</td>\n",
              "    </tr>\n",
              "    <tr>\n",
              "      <th>18945</th>\n",
              "      <td>힘빠지게</td>\n",
              "      <td>1</td>\n",
              "    </tr>\n",
              "    <tr>\n",
              "      <th>18946</th>\n",
              "      <td>힘빠지는</td>\n",
              "      <td>1</td>\n",
              "    </tr>\n",
              "  </tbody>\n",
              "</table>\n",
              "</div>"
            ],
            "text/plain": [
              "            0  1\n",
              "18927  힘들어지는거  1\n",
              "18928   힘들어진거  1\n",
              "18929   힘들어하고  1\n",
              "18930  힘들어하는데  1\n",
              "18931    힘들었고  1\n",
              "18932   힘들었네요  1\n",
              "18933    힘들었다  2\n",
              "18934    힘들었던  2\n",
              "18935   힘들었어도  1\n",
              "18936   힘들었어요  2\n",
              "18937  힘들었을건데  1\n",
              "18938   힘들었을것  1\n",
              "18939   힘들었을까  2\n",
              "18940     힘들지  1\n",
              "18941      힘듦  3\n",
              "18942     힘듦과  1\n",
              "18943     힘듦도  1\n",
              "18944    힘듭니다  1\n",
              "18945    힘빠지게  1\n",
              "18946    힘빠지는  1"
            ]
          },
          "execution_count": 163,
          "metadata": {},
          "output_type": "execute_result"
        }
      ],
      "source": [
        "word_count_dict = dict(zip(word_list, count_list))\n",
        "word_Freq = pd.DataFrame(word_count_dict.items())\n",
        "word_Freq.tail(20)"
      ]
    },
    {
      "cell_type": "code",
      "execution_count": null,
      "id": "3560a467",
      "metadata": {
        "id": "3560a467"
      },
      "outputs": [],
      "source": [
        "from sklearn.feature_extraction.text import TfidfTransformer\n",
        "\n",
        "tfidf_vectorizer = TfidfTransformer()\n",
        "tf_idf_vect = tfidf_vectorizer.fit_transform(bow_vect)"
      ]
    },
    {
      "cell_type": "code",
      "execution_count": null,
      "id": "5d7f0be7",
      "metadata": {
        "scrolled": true,
        "id": "5d7f0be7",
        "outputId": "6840a6fe-8385-4750-f28a-195da5734423"
      },
      "outputs": [
        {
          "data": {
            "text/plain": [
              "((5728, 18947), (5728,))"
            ]
          },
          "execution_count": 178,
          "metadata": {},
          "output_type": "execute_result"
        }
      ],
      "source": [
        "from sklearn.model_selection import train_test_split\n",
        "\n",
        "x_data = tf_idf_vect\n",
        "y_data = df_model['positiveness']\n",
        "x_train, x_test, y_train, y_test, df_train, df_test = train_test_split(x_data, y_data, df_model, test_size = 0.3, random_state=0)\n",
        "x_train.shape, y_train.shape"
      ]
    },
    {
      "cell_type": "code",
      "execution_count": null,
      "id": "3f80ad9f",
      "metadata": {
        "id": "3f80ad9f",
        "outputId": "b8619364-fd87-498e-9844-4ee74108e186"
      },
      "outputs": [
        {
          "name": "stdout",
          "output_type": "stream",
          "text": [
            "accuracy: 0.8460\n"
          ]
        }
      ],
      "source": [
        "lr =LogisticRegression(random_state=0)\n",
        "lr.fit(x_train, y_train)\n",
        "\n",
        "lr_pred = lr.predict(x_test)\n",
        "print('accuracy: %.4f' % accuracy_score(y_test, lr_pred))"
      ]
    },
    {
      "cell_type": "code",
      "execution_count": null,
      "id": "507c4542",
      "metadata": {
        "id": "507c4542"
      },
      "outputs": [],
      "source": [
        "import pickle\n",
        "\n",
        "with open('model.pkl','wb') as pickle_file:\n",
        "    pickle.dump(lr, pickle_file)"
      ]
    },
    {
      "cell_type": "code",
      "execution_count": null,
      "id": "f8ce25a7",
      "metadata": {
        "id": "f8ce25a7"
      },
      "outputs": [],
      "source": [
        "df_test['pred'] = lr_pred"
      ]
    },
    {
      "cell_type": "markdown",
      "source": [
        "# 네이버 영화 정화 크롤링"
      ],
      "metadata": {
        "id": "POzDj8hzgXOq"
      },
      "id": "POzDj8hzgXOq"
    },
    {
      "cell_type": "code",
      "execution_count": null,
      "id": "64c8ae2b",
      "metadata": {
        "id": "64c8ae2b",
        "outputId": "8522a8b1-3776-429a-ad18-11930378e69a"
      },
      "outputs": [
        {
          "data": {
            "text/plain": [
              "<sqlite3.Cursor at 0x1f8ae6e7ea0>"
            ]
          },
          "execution_count": 9,
          "metadata": {},
          "output_type": "execute_result"
        }
      ],
      "source": [
        "import os\n",
        "import sys\n",
        "import json\n",
        "import requests\n",
        "import pandas as pd\n",
        "import pickle\n",
        "from google.colab import drive\n",
        "drive.mount('/content/drive')\n",
        "import sqlite3\n",
        "conn = sqlite3.connect('/content/drive/MyDrive/섹션3 프로젝트/movie.db')\n",
        "cur = conn.cursor()\n",
        "cur.execute(\"\"\"CREATE TABLE IF NOT EXISTS Movie_info(\n",
        "                        id INTEGER,\n",
        "                        movie_name TEXT,\n",
        "                        image TEXT,\n",
        "                        actor TEXT,\n",
        "                        userRating Float,\n",
        "                        PRIMARY KEY (id)\n",
        "                        );\"\"\")"
      ]
    },
    {
      "cell_type": "code",
      "execution_count": null,
      "id": "de407285",
      "metadata": {
        "scrolled": false,
        "id": "de407285",
        "outputId": "27a94673-789a-40ec-ecf7-3da7b0f5b4c5"
      },
      "outputs": [
        {
          "name": "stdout",
          "output_type": "stream",
          "text": [
            "10\n",
            "20\n",
            "30\n",
            "40\n",
            "50\n",
            "60\n",
            "70\n",
            "80\n",
            "90\n",
            "100\n",
            "110\n",
            "120\n",
            "130\n",
            "140\n",
            "150\n",
            "160\n",
            "170\n",
            "180\n",
            "190\n",
            "200\n",
            "210\n",
            "220\n",
            "230\n",
            "240\n",
            "250\n",
            "260\n",
            "270\n",
            "280\n",
            "290\n",
            "300\n",
            "310\n",
            "320\n",
            "330\n",
            "340\n",
            "350\n",
            "360\n",
            "370\n",
            "380\n",
            "390\n",
            "400\n",
            "410\n",
            "420\n",
            "430\n",
            "440\n",
            "450\n",
            "460\n",
            "470\n",
            "480\n",
            "490\n",
            "500\n",
            "510\n",
            "520\n",
            "530\n",
            "540\n",
            "550\n",
            "560\n",
            "570\n",
            "580\n",
            "590\n",
            "600\n",
            "610\n",
            "620\n",
            "630\n",
            "640\n",
            "650\n",
            "660\n",
            "670\n",
            "680\n",
            "690\n",
            "700\n",
            "710\n",
            "720\n",
            "730\n",
            "740\n",
            "750\n",
            "760\n",
            "770\n",
            "780\n",
            "790\n",
            "800\n",
            "810\n",
            "820\n",
            "830\n",
            "840\n",
            "850\n",
            "860\n",
            "870\n",
            "880\n",
            "890\n",
            "900\n",
            "910\n",
            "920\n",
            "930\n",
            "940\n",
            "950\n",
            "960\n",
            "970\n",
            "980\n",
            "990\n",
            "1000\n",
            "1010\n",
            "1020\n",
            "1030\n",
            "1040\n",
            "1050\n",
            "1060\n",
            "1070\n",
            "1080\n",
            "1090\n",
            "1100\n",
            "1110\n",
            "1120\n",
            "1130\n",
            "1140\n",
            "1150\n",
            "1160\n",
            "1170\n",
            "1180\n",
            "1190\n",
            "1200\n",
            "1210\n",
            "1220\n",
            "1230\n",
            "1240\n",
            "1250\n",
            "1260\n",
            "1270\n",
            "1280\n",
            "1290\n",
            "1300\n",
            "1310\n",
            "1320\n",
            "1330\n",
            "1340\n",
            "1350\n",
            "1360\n",
            "1370\n",
            "1380\n",
            "1390\n",
            "1400\n",
            "1410\n",
            "1420\n",
            "1430\n",
            "1440\n",
            "1450\n",
            "1460\n",
            "1470\n",
            "1480\n",
            "1490\n",
            "1500\n",
            "1510\n",
            "1520\n",
            "1530\n",
            "1540\n",
            "1550\n",
            "1560\n",
            "1570\n",
            "1580\n",
            "1590\n",
            "1600\n",
            "1610\n",
            "1620\n",
            "1630\n",
            "1640\n",
            "1650\n",
            "1660\n",
            "1670\n",
            "1680\n",
            "1690\n",
            "1700\n",
            "1710\n",
            "1720\n",
            "1730\n",
            "1740\n",
            "1750\n",
            "1760\n",
            "1770\n",
            "1780\n",
            "1790\n",
            "1800\n",
            "1810\n",
            "1820\n",
            "1830\n",
            "1840\n",
            "1850\n",
            "1860\n",
            "1870\n",
            "1880\n",
            "1890\n",
            "1900\n",
            "1910\n",
            "1920\n",
            "1930\n",
            "1940\n",
            "1950\n",
            "1960\n",
            "1970\n",
            "1980\n",
            "1990\n",
            "2000\n",
            "2010\n",
            "2020\n",
            "2030\n",
            "2040\n",
            "2050\n",
            "2060\n",
            "2070\n",
            "2080\n",
            "2090\n",
            "2100\n",
            "2110\n",
            "2120\n",
            "2130\n",
            "2140\n",
            "2150\n",
            "2160\n",
            "2170\n",
            "2180\n",
            "2190\n",
            "2200\n",
            "2210\n",
            "2220\n",
            "2230\n",
            "2240\n",
            "2250\n",
            "2260\n",
            "2270\n",
            "2280\n",
            "2290\n",
            "2300\n",
            "2310\n",
            "2320\n",
            "2330\n",
            "2340\n",
            "2350\n",
            "2360\n",
            "2370\n",
            "2380\n",
            "2390\n",
            "2400\n",
            "2410\n",
            "2420\n",
            "2430\n",
            "2440\n",
            "2450\n",
            "2460\n",
            "2470\n",
            "2480\n",
            "2490\n",
            "2500\n",
            "2510\n",
            "2520\n",
            "2530\n",
            "2540\n",
            "2550\n",
            "2560\n",
            "2570\n",
            "2580\n",
            "2590\n",
            "2600\n",
            "2610\n",
            "2620\n",
            "2630\n",
            "2640\n",
            "2650\n",
            "2660\n",
            "2670\n",
            "2680\n",
            "2690\n",
            "2700\n",
            "2710\n",
            "2720\n",
            "2730\n",
            "2740\n",
            "2750\n",
            "2760\n",
            "2770\n",
            "2780\n",
            "2790\n",
            "2800\n",
            "2810\n",
            "2820\n",
            "2830\n",
            "2840\n",
            "2850\n",
            "2860\n",
            "2870\n",
            "2880\n",
            "2890\n",
            "2900\n",
            "2910\n",
            "2920\n",
            "2930\n",
            "2940\n",
            "2950\n",
            "2960\n",
            "2970\n",
            "2980\n"
          ]
        }
      ],
      "source": [
        "import os\n",
        "import sys\n",
        "import urllib.request\n",
        "import json\n",
        "import time\n",
        "import pandas as pd\n",
        "\n",
        "js_list=[]\n",
        "\n",
        "\n",
        "for movie_name in list(new_service['movieNm']):\n",
        "    num +=1\n",
        "    if num%10==0:\n",
        "        time.sleep(2)\n",
        "        print(num)\n",
        "    client_id = \"키\"\n",
        "    client_secret = \"비밀키\"\n",
        "    encText = urllib.parse.quote(movie_name)\n",
        "    url = \"https://openapi.naver.com/v1/search/movie.json?query=\" + encText\n",
        "    request = urllib.request.Request(url)\n",
        "    request.add_header(\"X-Naver-Client-Id\",client_id)\n",
        "    request.add_header(\"X-Naver-Client-Secret\",client_secret)\n",
        "    response = urllib.request.urlopen(request)\n",
        "    response_body = response.read()\n",
        "    js_list+=[json.loads(response_body.decode('utf-8'))]"
      ]
    },
    {
      "cell_type": "code",
      "execution_count": null,
      "id": "07ba443c",
      "metadata": {
        "scrolled": true,
        "id": "07ba443c"
      },
      "outputs": [],
      "source": [
        "with open('/content/drive/MyDrive/섹션3 프로젝트/data_list.pkl','rb') as pickle_file:\n",
        "   js_list= pickle.load(pickle_file)"
      ]
    },
    {
      "cell_type": "code",
      "source": [],
      "metadata": {
        "id": "MPL9Ji21foaC"
      },
      "id": "MPL9Ji21foaC",
      "execution_count": null,
      "outputs": []
    },
    {
      "cell_type": "code",
      "source": [
        "import pickle\n",
        "with open('/content/drive/MyDrive/섹션3 프로젝트/df_final.pkl','rb') as pickle_file:\n",
        "   js_list= pickle.load(pickle_file)"
      ],
      "metadata": {
        "id": "DjCNV7OkfXmL"
      },
      "id": "DjCNV7OkfXmL",
      "execution_count": null,
      "outputs": []
    },
    {
      "cell_type": "code",
      "source": [
        "js_list"
      ],
      "metadata": {
        "id": "cQjIITZRfwda",
        "outputId": "fdb0f3dc-791e-4b65-9d35-9346e0b3e505",
        "colab": {
          "base_uri": "https://localhost:8080/",
          "height": 424
        }
      },
      "id": "cQjIITZRfwda",
      "execution_count": null,
      "outputs": [
        {
          "output_type": "execute_result",
          "data": {
            "text/plain": [
              "       word  word_num     score\n",
              "0       스토리      9688 -0.634646\n",
              "1        이해     13391 -0.059383\n",
              "2        더욱      4130  0.362079\n",
              "3      흥미롭게     18874  0.282715\n",
              "4        감상       655 -0.152026\n",
              "...     ...       ...       ...\n",
              "18942  하실거면     17813 -0.231878\n",
              "18943  다니시길      3644 -0.231878\n",
              "18944  잔인하긴     14015  0.142815\n",
              "18945   뒤지냐      4667 -0.191163\n",
              "18946    봣네      7911  0.000000\n",
              "\n",
              "[18947 rows x 3 columns]"
            ],
            "text/html": [
              "\n",
              "  <div id=\"df-8dca83bd-8296-4ae9-acc1-f53dbbcd33bf\">\n",
              "    <div class=\"colab-df-container\">\n",
              "      <div>\n",
              "<style scoped>\n",
              "    .dataframe tbody tr th:only-of-type {\n",
              "        vertical-align: middle;\n",
              "    }\n",
              "\n",
              "    .dataframe tbody tr th {\n",
              "        vertical-align: top;\n",
              "    }\n",
              "\n",
              "    .dataframe thead th {\n",
              "        text-align: right;\n",
              "    }\n",
              "</style>\n",
              "<table border=\"1\" class=\"dataframe\">\n",
              "  <thead>\n",
              "    <tr style=\"text-align: right;\">\n",
              "      <th></th>\n",
              "      <th>word</th>\n",
              "      <th>word_num</th>\n",
              "      <th>score</th>\n",
              "    </tr>\n",
              "  </thead>\n",
              "  <tbody>\n",
              "    <tr>\n",
              "      <th>0</th>\n",
              "      <td>스토리</td>\n",
              "      <td>9688</td>\n",
              "      <td>-0.634646</td>\n",
              "    </tr>\n",
              "    <tr>\n",
              "      <th>1</th>\n",
              "      <td>이해</td>\n",
              "      <td>13391</td>\n",
              "      <td>-0.059383</td>\n",
              "    </tr>\n",
              "    <tr>\n",
              "      <th>2</th>\n",
              "      <td>더욱</td>\n",
              "      <td>4130</td>\n",
              "      <td>0.362079</td>\n",
              "    </tr>\n",
              "    <tr>\n",
              "      <th>3</th>\n",
              "      <td>흥미롭게</td>\n",
              "      <td>18874</td>\n",
              "      <td>0.282715</td>\n",
              "    </tr>\n",
              "    <tr>\n",
              "      <th>4</th>\n",
              "      <td>감상</td>\n",
              "      <td>655</td>\n",
              "      <td>-0.152026</td>\n",
              "    </tr>\n",
              "    <tr>\n",
              "      <th>...</th>\n",
              "      <td>...</td>\n",
              "      <td>...</td>\n",
              "      <td>...</td>\n",
              "    </tr>\n",
              "    <tr>\n",
              "      <th>18942</th>\n",
              "      <td>하실거면</td>\n",
              "      <td>17813</td>\n",
              "      <td>-0.231878</td>\n",
              "    </tr>\n",
              "    <tr>\n",
              "      <th>18943</th>\n",
              "      <td>다니시길</td>\n",
              "      <td>3644</td>\n",
              "      <td>-0.231878</td>\n",
              "    </tr>\n",
              "    <tr>\n",
              "      <th>18944</th>\n",
              "      <td>잔인하긴</td>\n",
              "      <td>14015</td>\n",
              "      <td>0.142815</td>\n",
              "    </tr>\n",
              "    <tr>\n",
              "      <th>18945</th>\n",
              "      <td>뒤지냐</td>\n",
              "      <td>4667</td>\n",
              "      <td>-0.191163</td>\n",
              "    </tr>\n",
              "    <tr>\n",
              "      <th>18946</th>\n",
              "      <td>봣네</td>\n",
              "      <td>7911</td>\n",
              "      <td>0.000000</td>\n",
              "    </tr>\n",
              "  </tbody>\n",
              "</table>\n",
              "<p>18947 rows × 3 columns</p>\n",
              "</div>\n",
              "      <button class=\"colab-df-convert\" onclick=\"convertToInteractive('df-8dca83bd-8296-4ae9-acc1-f53dbbcd33bf')\"\n",
              "              title=\"Convert this dataframe to an interactive table.\"\n",
              "              style=\"display:none;\">\n",
              "        \n",
              "  <svg xmlns=\"http://www.w3.org/2000/svg\" height=\"24px\"viewBox=\"0 0 24 24\"\n",
              "       width=\"24px\">\n",
              "    <path d=\"M0 0h24v24H0V0z\" fill=\"none\"/>\n",
              "    <path d=\"M18.56 5.44l.94 2.06.94-2.06 2.06-.94-2.06-.94-.94-2.06-.94 2.06-2.06.94zm-11 1L8.5 8.5l.94-2.06 2.06-.94-2.06-.94L8.5 2.5l-.94 2.06-2.06.94zm10 10l.94 2.06.94-2.06 2.06-.94-2.06-.94-.94-2.06-.94 2.06-2.06.94z\"/><path d=\"M17.41 7.96l-1.37-1.37c-.4-.4-.92-.59-1.43-.59-.52 0-1.04.2-1.43.59L10.3 9.45l-7.72 7.72c-.78.78-.78 2.05 0 2.83L4 21.41c.39.39.9.59 1.41.59.51 0 1.02-.2 1.41-.59l7.78-7.78 2.81-2.81c.8-.78.8-2.07 0-2.86zM5.41 20L4 18.59l7.72-7.72 1.47 1.35L5.41 20z\"/>\n",
              "  </svg>\n",
              "      </button>\n",
              "      \n",
              "  <style>\n",
              "    .colab-df-container {\n",
              "      display:flex;\n",
              "      flex-wrap:wrap;\n",
              "      gap: 12px;\n",
              "    }\n",
              "\n",
              "    .colab-df-convert {\n",
              "      background-color: #E8F0FE;\n",
              "      border: none;\n",
              "      border-radius: 50%;\n",
              "      cursor: pointer;\n",
              "      display: none;\n",
              "      fill: #1967D2;\n",
              "      height: 32px;\n",
              "      padding: 0 0 0 0;\n",
              "      width: 32px;\n",
              "    }\n",
              "\n",
              "    .colab-df-convert:hover {\n",
              "      background-color: #E2EBFA;\n",
              "      box-shadow: 0px 1px 2px rgba(60, 64, 67, 0.3), 0px 1px 3px 1px rgba(60, 64, 67, 0.15);\n",
              "      fill: #174EA6;\n",
              "    }\n",
              "\n",
              "    [theme=dark] .colab-df-convert {\n",
              "      background-color: #3B4455;\n",
              "      fill: #D2E3FC;\n",
              "    }\n",
              "\n",
              "    [theme=dark] .colab-df-convert:hover {\n",
              "      background-color: #434B5C;\n",
              "      box-shadow: 0px 1px 3px 1px rgba(0, 0, 0, 0.15);\n",
              "      filter: drop-shadow(0px 1px 2px rgba(0, 0, 0, 0.3));\n",
              "      fill: #FFFFFF;\n",
              "    }\n",
              "  </style>\n",
              "\n",
              "      <script>\n",
              "        const buttonEl =\n",
              "          document.querySelector('#df-8dca83bd-8296-4ae9-acc1-f53dbbcd33bf button.colab-df-convert');\n",
              "        buttonEl.style.display =\n",
              "          google.colab.kernel.accessAllowed ? 'block' : 'none';\n",
              "\n",
              "        async function convertToInteractive(key) {\n",
              "          const element = document.querySelector('#df-8dca83bd-8296-4ae9-acc1-f53dbbcd33bf');\n",
              "          const dataTable =\n",
              "            await google.colab.kernel.invokeFunction('convertToInteractive',\n",
              "                                                     [key], {});\n",
              "          if (!dataTable) return;\n",
              "\n",
              "          const docLinkHtml = 'Like what you see? Visit the ' +\n",
              "            '<a target=\"_blank\" href=https://colab.research.google.com/notebooks/data_table.ipynb>data table notebook</a>'\n",
              "            + ' to learn more about interactive tables.';\n",
              "          element.innerHTML = '';\n",
              "          dataTable['output_type'] = 'display_data';\n",
              "          await google.colab.output.renderOutput(dataTable, element);\n",
              "          const docLink = document.createElement('div');\n",
              "          docLink.innerHTML = docLinkHtml;\n",
              "          element.appendChild(docLink);\n",
              "        }\n",
              "      </script>\n",
              "    </div>\n",
              "  </div>\n",
              "  "
            ]
          },
          "metadata": {},
          "execution_count": 12
        }
      ]
    },
    {
      "cell_type": "code",
      "execution_count": null,
      "id": "67922d86",
      "metadata": {
        "id": "67922d86"
      },
      "outputs": [],
      "source": [
        "movie_info=pd.DataFrame(columns=js_list[0]['items'][0].keys())"
      ]
    },
    {
      "cell_type": "code",
      "execution_count": null,
      "id": "726244ad",
      "metadata": {
        "id": "726244ad"
      },
      "outputs": [],
      "source": [
        "movie_info.drop('subtitle',axis=1, inplace=True)"
      ]
    },
    {
      "cell_type": "code",
      "source": [
        "movie_info['title']= new_service['movieNm']"
      ],
      "metadata": {
        "id": "4dWTrsvLd4j_"
      },
      "id": "4dWTrsvLd4j_",
      "execution_count": null,
      "outputs": []
    },
    {
      "cell_type": "code",
      "source": [
        "def director_engineering(l):\n",
        "    for ind,d_name in enumerate(l):\n",
        "        l[ind]=d_name.lstrip(\"[\").rstrip(\"]\").strip().strip(\"'\")\n",
        "    return l"
      ],
      "metadata": {
        "id": "JcFQYk3Xvcrg"
      },
      "id": "JcFQYk3Xvcrg",
      "execution_count": null,
      "outputs": []
    },
    {
      "cell_type": "code",
      "execution_count": null,
      "id": "712019c3",
      "metadata": {
        "id": "712019c3"
      },
      "outputs": [],
      "source": [
        "idx=-1\n",
        "for movie_json in js_list:\n",
        "    idx+=1\n",
        "    if movie_json['display']==1:\n",
        "        movie_info.loc[idx,'link'] = movie_json['items'][0]['link']\n",
        "        movie_info.loc[idx,'image'] = movie_json['items'][0]['image']\n",
        "        movie_info.loc[idx,'pubDate'] = movie_json['items'][0]['pubDate']\n",
        "        movie_info.loc[idx,'director'] = movie_json['items'][0]['director']\n",
        "        movie_info.loc[idx,'actor'] = movie_json['items'][0]['actor']\n",
        "        movie_info.loc[idx,'userRating'] = movie_json['items'][0]['userRating']\n",
        "    else:\n",
        "        for multi_json in movie_json['items']:\n",
        "            try:\n",
        "                if (int(new_service.loc[idx,'prdtYear']) == int(multi_json['pubDate'])) & (multi_json['director'].split('|')[0] in new_service.loc[idx,['director']].str.split(',').apply(lambda x:director_engineering(x))['director']):\n",
        "                        movie_info.loc[idx,'link'] = multi_json['link']\n",
        "                        movie_info.loc[idx,'image'] = multi_json['image']\n",
        "                        movie_info.loc[idx,'pubDate'] = multi_json['pubDate']\n",
        "                        movie_info.loc[idx,'director'] = multi_json['director']\n",
        "                        movie_info.loc[idx,'actor'] = multi_json['actor']\n",
        "                        movie_info.loc[idx,'userRating'] = multi_json['userRating']\n",
        "                        break\n",
        "            except:\n",
        "                pass\n",
        "\n",
        "    \n",
        "        \n",
        "        \n",
        "        "
      ]
    },
    {
      "cell_type": "code",
      "source": [
        "movie_info[movie_info['link'].isnull()].index"
      ],
      "metadata": {
        "colab": {
          "base_uri": "https://localhost:8080/"
        },
        "id": "dEDa_2LRg8ZY",
        "outputId": "09d30e87-4fca-4274-9776-8abed446f2a1"
      },
      "id": "dEDa_2LRg8ZY",
      "execution_count": null,
      "outputs": [
        {
          "output_type": "execute_result",
          "data": {
            "text/plain": [
              "Int64Index([   5,   30,   31,   39,   48,   50,   70,   90,   93,  107,\n",
              "            ...\n",
              "            2928, 2942, 2945, 2946, 2949, 2958, 2961, 2964, 2971, 2972],\n",
              "           dtype='int64', length=363)"
            ]
          },
          "metadata": {},
          "execution_count": 136
        }
      ]
    },
    {
      "cell_type": "code",
      "source": [
        "movie_info.loc[movie_info[movie_info['link'].isnull()].index,'title']"
      ],
      "metadata": {
        "colab": {
          "base_uri": "https://localhost:8080/"
        },
        "id": "z1o49OlmlTKc",
        "outputId": "b3bff4f2-0057-4e2f-db80-f6d924036161"
      },
      "id": "z1o49OlmlTKc",
      "execution_count": null,
      "outputs": [
        {
          "output_type": "execute_result",
          "data": {
            "text/plain": [
              "5                       리멤버\n",
              "30      섹스, 거짓말 그리고 비디오 테이프\n",
              "31                     2046\n",
              "39                    인크레더블\n",
              "48                  나쁜 녀석들 \n",
              "               ...         \n",
              "2958                 1 On 1\n",
              "2961                   동방불패\n",
              "2964                  드라큐라 \n",
              "2971                 블랙 위도우\n",
              "2972                    스텔라\n",
              "Name: title, Length: 363, dtype: object"
            ]
          },
          "metadata": {},
          "execution_count": 146
        }
      ]
    },
    {
      "cell_type": "code",
      "source": [
        "import os\n",
        "import sys\n",
        "import urllib.request\n",
        "import json\n",
        "import time\n",
        "import pandas as pd\n",
        "\n",
        "js_list=[]\n",
        "\n",
        "num = 0\n",
        "\n",
        "for movie_name in movie_info.loc[movie_info[movie_info['link'].isnull()].index,'title']:\n",
        "    num +=1\n",
        "    if num%10==0:\n",
        "        time.sleep(2)\n",
        "        print(num)\n",
        "    client_id = \"RObdvWLnwy5exMUU5rYq\"\n",
        "    client_secret = \"suKykfzQiD\"\n",
        "    encText = urllib.parse.quote(movie_name)\n",
        "    url = \"https://openapi.naver.com/v1/search/movie.json?query=\" + encText+\"&display=100\"\n",
        "    request = urllib.request.Request(url)\n",
        "    request.add_header(\"X-Naver-Client-Id\",client_id)\n",
        "    request.add_header(\"X-Naver-Client-Secret\",client_secret)\n",
        "    response = urllib.request.urlopen(request)\n",
        "    response_body = response.read()\n",
        "    js_list+=[json.loads(response_body.decode('utf-8'))]"
      ],
      "metadata": {
        "colab": {
          "base_uri": "https://localhost:8080/"
        },
        "id": "SqpQAOzCv7NP",
        "outputId": "7f38673e-31de-4e05-8737-d1626155081b"
      },
      "id": "SqpQAOzCv7NP",
      "execution_count": null,
      "outputs": [
        {
          "output_type": "stream",
          "name": "stdout",
          "text": [
            "10\n",
            "20\n",
            "30\n",
            "40\n",
            "50\n",
            "60\n",
            "70\n",
            "80\n",
            "90\n",
            "100\n",
            "110\n",
            "120\n",
            "130\n",
            "140\n",
            "150\n",
            "160\n",
            "170\n",
            "180\n",
            "190\n",
            "200\n",
            "210\n",
            "220\n",
            "230\n",
            "240\n",
            "250\n",
            "260\n",
            "270\n",
            "280\n",
            "290\n",
            "300\n",
            "310\n",
            "320\n",
            "330\n",
            "340\n",
            "350\n",
            "360\n"
          ]
        }
      ]
    },
    {
      "cell_type": "code",
      "source": [
        "for movie_json,idx in list(zip(js_list,list(movie_info[movie_info['link'].isnull()].index))):\n",
        "    if movie_json['display']==1:\n",
        "        movie_info.loc[idx,'link'] = movie_json['items'][0]['link']\n",
        "        movie_info.loc[idx,'image'] = movie_json['items'][0]['image']\n",
        "        movie_info.loc[idx,'pubDate'] = movie_json['items'][0]['pubDate']\n",
        "        movie_info.loc[idx,'director'] = movie_json['items'][0]['director']\n",
        "        movie_info.loc[idx,'actor'] = movie_json['items'][0]['actor']\n",
        "        movie_info.loc[idx,'userRating'] = movie_json['items'][0]['userRating']\n",
        "    else:\n",
        "        for multi_json in movie_json['items']:\n",
        "            try:\n",
        "                if (int(new_service.loc[idx,'prdtYear']) == int(multi_json['pubDate'])) & (multi_json['director'].split('|')[0] in new_service.loc[idx,['director']].str.split(',').apply(lambda x:director_engineering(x))['director']):\n",
        "                        movie_info.loc[idx,'link'] = multi_json['link']\n",
        "                        movie_info.loc[idx,'image'] = multi_json['image']\n",
        "                        movie_info.loc[idx,'pubDate'] = multi_json['pubDate']\n",
        "                        movie_info.loc[idx,'director'] = multi_json['director']\n",
        "                        movie_info.loc[idx,'actor'] = multi_json['actor']\n",
        "                        movie_info.loc[idx,'userRating'] = multi_json['userRating']\n",
        "                        break\n",
        "            except:\n",
        "                pass\n",
        "\n",
        "    \n",
        "        \n",
        "        \n",
        "        "
      ],
      "metadata": {
        "id": "nF26MKUAx_V0"
      },
      "id": "nF26MKUAx_V0",
      "execution_count": null,
      "outputs": []
    },
    {
      "cell_type": "code",
      "source": [
        "movie_info_clean= movie_info.dropna()"
      ],
      "metadata": {
        "id": "E_Gti9URya-N"
      },
      "id": "E_Gti9URya-N",
      "execution_count": null,
      "outputs": []
    },
    {
      "cell_type": "code",
      "source": [
        "new_service[new_service['movieNm'].isin(list(movie_info_clean['title']))]"
      ],
      "metadata": {
        "colab": {
          "base_uri": "https://localhost:8080/",
          "height": 424
        },
        "id": "SA8FQ8OnyrL5",
        "outputId": "f70fba74-4fd1-4c4e-ad2e-04f38564c864"
      },
      "id": "SA8FQ8OnyrL5",
      "execution_count": null,
      "outputs": [
        {
          "output_type": "execute_result",
          "data": {
            "text/plain": [
              "      Unnamed: 0   movieNm                    genreAlt nationAlt  \\\n",
              "0              0   정직한 후보2                     ['코미디']    ['한국']   \n",
              "1              1  인생은 아름다워                     ['뮤지컬']    ['한국']   \n",
              "2              2      거래완료                     ['드라마']    ['한국']   \n",
              "3              3       대무가              ['드라마', '코미디']    ['한국']   \n",
              "4              4        자백               ['범죄', '스릴러']    ['한국']   \n",
              "...          ...       ...                         ...       ...   \n",
              "2979        2979      컬러퍼플                     ['드라마']    ['미국']   \n",
              "2980        2980     킬링필드          ['드라마', '사극', '전쟁']    ['영국']   \n",
              "2981        2981   티라노의 발톱         ['SF', '액션', '코미디']    ['한국']   \n",
              "2982        2982  007 살인면허  ['드라마', '범죄', '스릴러', '액션']    ['미국']   \n",
              "2983        2983    7월 4일생               ['드라마', '전쟁']    ['미국']   \n",
              "\n",
              "          director                                   company  prdtYear  \n",
              "0          ['장유정']                      ['(주)수필름', '(주)홍필름']    2022.0  \n",
              "1          ['최국희']                                ['더램프(주)']    2020.0  \n",
              "2          ['조경호']                        ['한국예술종합학교 산학협력단']    2020.0  \n",
              "3          ['이한종']                              ['(주)쿠키픽쳐스']    2022.0  \n",
              "4          ['윤종석']                           ['리얼라이즈픽쳐스(주)']    2020.0  \n",
              "...            ...                                       ...       ...  \n",
              "2979  ['스티븐 스필버그']  ['엠블린엔터테인먼트', '구버피터스컴퍼니', '워너 브러더스 픽쳐스']    1985.0  \n",
              "2980     ['롤랑 조페']                           ['워너 브러더스 픽쳐스']    1984.0  \n",
              "2981       ['심형래']                                ['영구아트무비']    1994.0  \n",
              "2982      ['존 글렌']                   ['다냐크 프로덕션', '이온 프로덕션']    1989.0  \n",
              "2983    ['올리버 스톤']                             ['익스트란코퍼레이션']    1989.0  \n",
              "\n",
              "[2758 rows x 7 columns]"
            ],
            "text/html": [
              "\n",
              "  <div id=\"df-b9985e8c-300b-46be-925e-01ca82740229\">\n",
              "    <div class=\"colab-df-container\">\n",
              "      <div>\n",
              "<style scoped>\n",
              "    .dataframe tbody tr th:only-of-type {\n",
              "        vertical-align: middle;\n",
              "    }\n",
              "\n",
              "    .dataframe tbody tr th {\n",
              "        vertical-align: top;\n",
              "    }\n",
              "\n",
              "    .dataframe thead th {\n",
              "        text-align: right;\n",
              "    }\n",
              "</style>\n",
              "<table border=\"1\" class=\"dataframe\">\n",
              "  <thead>\n",
              "    <tr style=\"text-align: right;\">\n",
              "      <th></th>\n",
              "      <th>Unnamed: 0</th>\n",
              "      <th>movieNm</th>\n",
              "      <th>genreAlt</th>\n",
              "      <th>nationAlt</th>\n",
              "      <th>director</th>\n",
              "      <th>company</th>\n",
              "      <th>prdtYear</th>\n",
              "    </tr>\n",
              "  </thead>\n",
              "  <tbody>\n",
              "    <tr>\n",
              "      <th>0</th>\n",
              "      <td>0</td>\n",
              "      <td>정직한 후보2</td>\n",
              "      <td>['코미디']</td>\n",
              "      <td>['한국']</td>\n",
              "      <td>['장유정']</td>\n",
              "      <td>['(주)수필름', '(주)홍필름']</td>\n",
              "      <td>2022.0</td>\n",
              "    </tr>\n",
              "    <tr>\n",
              "      <th>1</th>\n",
              "      <td>1</td>\n",
              "      <td>인생은 아름다워</td>\n",
              "      <td>['뮤지컬']</td>\n",
              "      <td>['한국']</td>\n",
              "      <td>['최국희']</td>\n",
              "      <td>['더램프(주)']</td>\n",
              "      <td>2020.0</td>\n",
              "    </tr>\n",
              "    <tr>\n",
              "      <th>2</th>\n",
              "      <td>2</td>\n",
              "      <td>거래완료</td>\n",
              "      <td>['드라마']</td>\n",
              "      <td>['한국']</td>\n",
              "      <td>['조경호']</td>\n",
              "      <td>['한국예술종합학교 산학협력단']</td>\n",
              "      <td>2020.0</td>\n",
              "    </tr>\n",
              "    <tr>\n",
              "      <th>3</th>\n",
              "      <td>3</td>\n",
              "      <td>대무가</td>\n",
              "      <td>['드라마', '코미디']</td>\n",
              "      <td>['한국']</td>\n",
              "      <td>['이한종']</td>\n",
              "      <td>['(주)쿠키픽쳐스']</td>\n",
              "      <td>2022.0</td>\n",
              "    </tr>\n",
              "    <tr>\n",
              "      <th>4</th>\n",
              "      <td>4</td>\n",
              "      <td>자백</td>\n",
              "      <td>['범죄', '스릴러']</td>\n",
              "      <td>['한국']</td>\n",
              "      <td>['윤종석']</td>\n",
              "      <td>['리얼라이즈픽쳐스(주)']</td>\n",
              "      <td>2020.0</td>\n",
              "    </tr>\n",
              "    <tr>\n",
              "      <th>...</th>\n",
              "      <td>...</td>\n",
              "      <td>...</td>\n",
              "      <td>...</td>\n",
              "      <td>...</td>\n",
              "      <td>...</td>\n",
              "      <td>...</td>\n",
              "      <td>...</td>\n",
              "    </tr>\n",
              "    <tr>\n",
              "      <th>2979</th>\n",
              "      <td>2979</td>\n",
              "      <td>컬러퍼플</td>\n",
              "      <td>['드라마']</td>\n",
              "      <td>['미국']</td>\n",
              "      <td>['스티븐 스필버그']</td>\n",
              "      <td>['엠블린엔터테인먼트', '구버피터스컴퍼니', '워너 브러더스 픽쳐스']</td>\n",
              "      <td>1985.0</td>\n",
              "    </tr>\n",
              "    <tr>\n",
              "      <th>2980</th>\n",
              "      <td>2980</td>\n",
              "      <td>킬링필드</td>\n",
              "      <td>['드라마', '사극', '전쟁']</td>\n",
              "      <td>['영국']</td>\n",
              "      <td>['롤랑 조페']</td>\n",
              "      <td>['워너 브러더스 픽쳐스']</td>\n",
              "      <td>1984.0</td>\n",
              "    </tr>\n",
              "    <tr>\n",
              "      <th>2981</th>\n",
              "      <td>2981</td>\n",
              "      <td>티라노의 발톱</td>\n",
              "      <td>['SF', '액션', '코미디']</td>\n",
              "      <td>['한국']</td>\n",
              "      <td>['심형래']</td>\n",
              "      <td>['영구아트무비']</td>\n",
              "      <td>1994.0</td>\n",
              "    </tr>\n",
              "    <tr>\n",
              "      <th>2982</th>\n",
              "      <td>2982</td>\n",
              "      <td>007 살인면허</td>\n",
              "      <td>['드라마', '범죄', '스릴러', '액션']</td>\n",
              "      <td>['미국']</td>\n",
              "      <td>['존 글렌']</td>\n",
              "      <td>['다냐크 프로덕션', '이온 프로덕션']</td>\n",
              "      <td>1989.0</td>\n",
              "    </tr>\n",
              "    <tr>\n",
              "      <th>2983</th>\n",
              "      <td>2983</td>\n",
              "      <td>7월 4일생</td>\n",
              "      <td>['드라마', '전쟁']</td>\n",
              "      <td>['미국']</td>\n",
              "      <td>['올리버 스톤']</td>\n",
              "      <td>['익스트란코퍼레이션']</td>\n",
              "      <td>1989.0</td>\n",
              "    </tr>\n",
              "  </tbody>\n",
              "</table>\n",
              "<p>2758 rows × 7 columns</p>\n",
              "</div>\n",
              "      <button class=\"colab-df-convert\" onclick=\"convertToInteractive('df-b9985e8c-300b-46be-925e-01ca82740229')\"\n",
              "              title=\"Convert this dataframe to an interactive table.\"\n",
              "              style=\"display:none;\">\n",
              "        \n",
              "  <svg xmlns=\"http://www.w3.org/2000/svg\" height=\"24px\"viewBox=\"0 0 24 24\"\n",
              "       width=\"24px\">\n",
              "    <path d=\"M0 0h24v24H0V0z\" fill=\"none\"/>\n",
              "    <path d=\"M18.56 5.44l.94 2.06.94-2.06 2.06-.94-2.06-.94-.94-2.06-.94 2.06-2.06.94zm-11 1L8.5 8.5l.94-2.06 2.06-.94-2.06-.94L8.5 2.5l-.94 2.06-2.06.94zm10 10l.94 2.06.94-2.06 2.06-.94-2.06-.94-.94-2.06-.94 2.06-2.06.94z\"/><path d=\"M17.41 7.96l-1.37-1.37c-.4-.4-.92-.59-1.43-.59-.52 0-1.04.2-1.43.59L10.3 9.45l-7.72 7.72c-.78.78-.78 2.05 0 2.83L4 21.41c.39.39.9.59 1.41.59.51 0 1.02-.2 1.41-.59l7.78-7.78 2.81-2.81c.8-.78.8-2.07 0-2.86zM5.41 20L4 18.59l7.72-7.72 1.47 1.35L5.41 20z\"/>\n",
              "  </svg>\n",
              "      </button>\n",
              "      \n",
              "  <style>\n",
              "    .colab-df-container {\n",
              "      display:flex;\n",
              "      flex-wrap:wrap;\n",
              "      gap: 12px;\n",
              "    }\n",
              "\n",
              "    .colab-df-convert {\n",
              "      background-color: #E8F0FE;\n",
              "      border: none;\n",
              "      border-radius: 50%;\n",
              "      cursor: pointer;\n",
              "      display: none;\n",
              "      fill: #1967D2;\n",
              "      height: 32px;\n",
              "      padding: 0 0 0 0;\n",
              "      width: 32px;\n",
              "    }\n",
              "\n",
              "    .colab-df-convert:hover {\n",
              "      background-color: #E2EBFA;\n",
              "      box-shadow: 0px 1px 2px rgba(60, 64, 67, 0.3), 0px 1px 3px 1px rgba(60, 64, 67, 0.15);\n",
              "      fill: #174EA6;\n",
              "    }\n",
              "\n",
              "    [theme=dark] .colab-df-convert {\n",
              "      background-color: #3B4455;\n",
              "      fill: #D2E3FC;\n",
              "    }\n",
              "\n",
              "    [theme=dark] .colab-df-convert:hover {\n",
              "      background-color: #434B5C;\n",
              "      box-shadow: 0px 1px 3px 1px rgba(0, 0, 0, 0.15);\n",
              "      filter: drop-shadow(0px 1px 2px rgba(0, 0, 0, 0.3));\n",
              "      fill: #FFFFFF;\n",
              "    }\n",
              "  </style>\n",
              "\n",
              "      <script>\n",
              "        const buttonEl =\n",
              "          document.querySelector('#df-b9985e8c-300b-46be-925e-01ca82740229 button.colab-df-convert');\n",
              "        buttonEl.style.display =\n",
              "          google.colab.kernel.accessAllowed ? 'block' : 'none';\n",
              "\n",
              "        async function convertToInteractive(key) {\n",
              "          const element = document.querySelector('#df-b9985e8c-300b-46be-925e-01ca82740229');\n",
              "          const dataTable =\n",
              "            await google.colab.kernel.invokeFunction('convertToInteractive',\n",
              "                                                     [key], {});\n",
              "          if (!dataTable) return;\n",
              "\n",
              "          const docLinkHtml = 'Like what you see? Visit the ' +\n",
              "            '<a target=\"_blank\" href=https://colab.research.google.com/notebooks/data_table.ipynb>data table notebook</a>'\n",
              "            + ' to learn more about interactive tables.';\n",
              "          element.innerHTML = '';\n",
              "          dataTable['output_type'] = 'display_data';\n",
              "          await google.colab.output.renderOutput(dataTable, element);\n",
              "          const docLink = document.createElement('div');\n",
              "          docLink.innerHTML = docLinkHtml;\n",
              "          element.appendChild(docLink);\n",
              "        }\n",
              "      </script>\n",
              "    </div>\n",
              "  </div>\n",
              "  "
            ]
          },
          "metadata": {},
          "execution_count": 159
        }
      ]
    },
    {
      "cell_type": "code",
      "source": [
        "movie_info_clean[['genre','nation']]= new_service[new_service['movieNm'].isin(list(movie_info_clean['title']))][['genreAlt','nationAlt']]"
      ],
      "metadata": {
        "colab": {
          "base_uri": "https://localhost:8080/"
        },
        "id": "KCpRV5uZzGsU",
        "outputId": "29729543-4e35-4fe7-a79b-2ee3b6561c79"
      },
      "id": "KCpRV5uZzGsU",
      "execution_count": null,
      "outputs": [
        {
          "output_type": "stream",
          "name": "stderr",
          "text": [
            "/usr/local/lib/python3.7/dist-packages/pandas/core/frame.py:3641: SettingWithCopyWarning: \n",
            "A value is trying to be set on a copy of a slice from a DataFrame.\n",
            "Try using .loc[row_indexer,col_indexer] = value instead\n",
            "\n",
            "See the caveats in the documentation: https://pandas.pydata.org/pandas-docs/stable/user_guide/indexing.html#returning-a-view-versus-a-copy\n",
            "  self[k1] = value[k2]\n"
          ]
        }
      ]
    },
    {
      "cell_type": "code",
      "source": [
        "movie_info_clean.to_csv('/content/drive/MyDrive/섹션3 프로젝트/final_movie.csv')"
      ],
      "metadata": {
        "id": "YECcmAatzKEN"
      },
      "id": "YECcmAatzKEN",
      "execution_count": null,
      "outputs": []
    },
    {
      "cell_type": "code",
      "source": [
        "movie_info_clean['link'][0]"
      ],
      "metadata": {
        "colab": {
          "base_uri": "https://localhost:8080/",
          "height": 35
        },
        "id": "Dm0-uAag0J-N",
        "outputId": "530a8e3b-a6cb-46a1-c110-541dc6b69834"
      },
      "id": "Dm0-uAag0J-N",
      "execution_count": null,
      "outputs": [
        {
          "output_type": "execute_result",
          "data": {
            "text/plain": [
              "'https://movie.naver.com/movie/bi/mi/basic.nhn?code=210852'"
            ],
            "application/vnd.google.colaboratory.intrinsic+json": {
              "type": "string"
            }
          },
          "metadata": {},
          "execution_count": 168
        }
      ]
    },
    {
      "cell_type": "code",
      "source": [
        "import sqlite3\n",
        "conn = sqlite3.connect('/content/drive/MyDrive/섹션3 프로젝트/pjmovie.db')\n",
        "cur = conn.cursor()\n",
        "cur.execute('DROP TABLE IF EXISTS Review')\n",
        "cur.execute(\"\"\"CREATE TABLE IF NOT EXISTS Review (\n",
        "                        id INTEGER,\n",
        "                        review_text TEXT,\n",
        "                        review_star FLOAT,\n",
        "                        movie_title VARCHAR(128),\n",
        "                        PRIMARY KEY (id)\n",
        "                        );\"\"\")"
      ],
      "metadata": {
        "colab": {
          "base_uri": "https://localhost:8080/"
        },
        "id": "jdRpLp0219pu",
        "outputId": "df485148-0ba9-41b2-ec0f-a618eefc4365"
      },
      "id": "jdRpLp0219pu",
      "execution_count": null,
      "outputs": [
        {
          "output_type": "execute_result",
          "data": {
            "text/plain": [
              "<sqlite3.Cursor at 0x7f6d194b4260>"
            ]
          },
          "metadata": {},
          "execution_count": 1
        }
      ]
    },
    {
      "cell_type": "code",
      "source": [
        "import re\n",
        "import requests\n",
        "from bs4 import BeautifulSoup\n",
        "import pandas as pd\n",
        "import sqlite3\n",
        "\n",
        "BASE_URL = \"https://movie.naver.com/movie\"\n",
        "\n",
        "\n",
        "def get_page(page_url):\n",
        "    \"\"\"\n",
        "    get_page 함수는 페이지 URL 을 받아 해당 페이지를 가져오고 파싱한 두\n",
        "    결과들을 리턴합니다.\n",
        "\n",
        "    예를 들어 `page_url` 이 `https://github.com` 으로 주어진다면\n",
        "        1. 해당 페이지를 requests 라이브러리를 통해서 가져오고 해당 response 객체를 page 변수로 저장\n",
        "        2. 1번의 response 의 html 을 BeautifulSoup 으로 파싱한 soup 객체를 soup 변수로 저장\n",
        "        3. 저장한 soup, page 들을 리턴하고 함수 종료\n",
        "\n",
        "    파라미터:\n",
        "        - page_url: 받아올 페이지 url 정보입니다.\n",
        "\n",
        "    리턴:\n",
        "        - soup: BeautifulSoup 으로 파싱한 객체\n",
        "        - page: requests 을 통해 받은 페이지 (requests 에서 사용하는 response\n",
        "        객체입니다).\n",
        "    \"\"\"\n",
        "    page = requests.get(page_url)\n",
        "    soup = BeautifulSoup(page.content, 'html.parser')\n",
        "\n",
        "\n",
        "\n",
        "    return soup, page\n",
        "\n",
        "\n",
        "def get_movie_code(movie_link):\n",
        "    \"\"\"\n",
        "    get_movie_code 함수는 영화 제목을 받으면 해당 영화 제목으로 검색했을 때\n",
        "    가장 먼저 나오는 영화의 아이디를 리턴합니다.\n",
        "\n",
        "    해당 영화의 아이디는 네이버에서 지정한대로 사용합니다. \n",
        "    여기에서 네이버에서 지정한 아이디란 예를 들어 다음과 같습니다:\n",
        "        - `https://movie.naver.com/` 에 접속\n",
        "        - 검색란에 영화 제목 (예: Soul) 입력 뒤 검색\n",
        "        - 해당 영화 페이지의 URL (예: `https://movie.naver.com/movie/bi/mi/basic.nhn?code=184517`) 의 'code=' 뒤에 나오는 숫자\n",
        "\n",
        "    파라미터:\n",
        "        - movie_title: 리뷰를 스크레이핑할 영화 제목이 담긴 문자열(str) 입니다.\n",
        "\n",
        "    리턴:\n",
        "        - 영화 아이디 번호: 네이버에서 지정한 영화의 아이디 번호가 담긴\n",
        "        숫자(int) 입니다.\n",
        "    \"\"\"\n",
        "    \n",
        "    movie_code= movie_link.split('code=')[1]\n",
        "    return movie_code\n",
        "\n",
        "def get_url(movie_link):\n",
        "    movie_code=get_movie_code(movie_link)\n",
        "    return f\"{BASE_URL}/point/af/list.naver?st=mcode&sword={movie_code}&target=after&page=1\"\n",
        "\n",
        "\n",
        "def get_reviews(movie_code, page_num):\n",
        "    \"\"\"\n",
        "    get_reviews 함수는 리뷰들이 담긴 리뷰 리스트를 리턴해주는 함수입니다.\n",
        "\n",
        "    각 리뷰는 다음과 같은 파이썬 딕셔너리 형태입니다:\n",
        "        {\n",
        "            'review_text': 리뷰 글이 담긴 문자열(str) 입니다,\n",
        "            'review_star': 리뷰 별점이 담긴 숫자(int) 입니다\n",
        "        }\n",
        "\n",
        "    파라미터:\n",
        "        - movie_code: 네이버에서 지정한 영화 아이디 번호가 담긴 숫자(int)\n",
        "        입니다.\n",
        "        - page_num: 리뷰를 몇 번째 리뷰 페이지에서 가져와야 하는지 담긴\n",
        "        숫자(int) 입니다. 아무것도 주어지지 않은 경우 기본값은 1 입니다.\n",
        "\n",
        "    리턴:\n",
        "        - 리뷰 리스트: 스크레이핑한 리뷰들이 각각 파이썬 딕셔너리로 위에 명시된\n",
        "        형태로 저장된 리스트입니다.\n",
        "    \"\"\"\n",
        "    review_url = f\"{BASE_URL}/point/af/list.naver?st=mcode&sword={movie_code}&target=after&page={page_num}\"\n",
        "    review_list = []\n",
        "    soup, _ = get_page(review_url)   \n",
        "    score_list=soup.find('table',class_='list_netizen').find('tbody').find_all('tr')\n",
        "    \n",
        "    text_list = []\n",
        "    star_list = []\n",
        "    for reple in score_list:\n",
        "        text_list += [reple.find_all('td')[1].select_one('br').next_sibling.strip()]\n",
        "        star_list += [int(reple.find('div',class_='list_netizen_score').find('em').text)]\n",
        "        \n",
        "    \n",
        "    return text_list,star_list\n",
        "\n",
        "\n",
        "\n",
        "def scrape_by_page_num(movie_title,movie_link,database_conn,database_cur, page_num=10):\n",
        "    \"\"\"\n",
        "    scrape_by_page_num 함수는 페이지 수를 기준으로 리뷰를 스크레이핑하는\n",
        "    함수입니다.\n",
        "\n",
        "    파라미터:\n",
        "        - movie_title: 리뷰를 스크레이핑할 영화 제목이 담긴 문자열(str) 입니다.\n",
        "        - page_num: 첫 번째 페이지에서부터 스크레이핑할 페이지 개수가 담긴\n",
        "        숫자(int) 입니다.\n",
        "\n",
        "    리턴:\n",
        "        - 리뷰 리스트: 주어진 page_num 만큼의 페이지에서부터 스크레이핑한\n",
        "        리뷰를 담은 파이썬 리스트입니다. (각 리뷰 항목은 get_reviews 에서\n",
        "        명시된 파이썬 딕셔너리 형태여야 합니다.)\n",
        "    \"\"\"\n",
        "    try: \n",
        "        page = requests.get(get_url(movie_link))\n",
        "        soup = BeautifulSoup(page.content, 'html.parser')\n",
        "    \n",
        "        if len(soup.find('div',class_='paging').find('div').find_all('a')) >10:\n",
        "            get_reviews(get_movie_code(movie_link), 10)\n",
        "            for page in range(1,page_num+1):\n",
        "                text_list,star_list=get_reviews(get_movie_code(movie_link), page)\n",
        "                cur.executemany('INSERT INTO Review(review_text,review_star,movie_title)VALUES(?,?,?)',list(zip(text_list,star_list,[movie_title]*len(text_list))))\n",
        "\n",
        "        else:\n",
        "            pass\n",
        "    except:\n",
        "        pass\n",
        "    conn.commit()\n",
        "    \n",
        "\n",
        "\n"
      ],
      "metadata": {
        "id": "jwyo8oVq1CoD"
      },
      "id": "jwyo8oVq1CoD",
      "execution_count": null,
      "outputs": []
    },
    {
      "cell_type": "code",
      "source": [
        "movie_info_clean.info"
      ],
      "metadata": {
        "id": "OUth4wcu41To"
      },
      "id": "OUth4wcu41To",
      "execution_count": null,
      "outputs": []
    },
    {
      "cell_type": "code",
      "source": [
        "num=0\n",
        "for movie_title ,movie_link in list(zip(list(movie_info_clean['title'].values),list(movie_info_clean['link'].values))):\n",
        "    num+=1\n",
        "    movie_review_df = scrape_by_page_num(movie_title,movie_link,conn,cur)\n",
        "    if num%50==0:\n",
        "        print(num)"
      ],
      "metadata": {
        "colab": {
          "base_uri": "https://localhost:8080/"
        },
        "id": "_f4yH4Oq3qVT",
        "outputId": "dc156ab7-5f9b-4dff-c839-0db65df03ffc"
      },
      "id": "_f4yH4Oq3qVT",
      "execution_count": null,
      "outputs": [
        {
          "output_type": "stream",
          "name": "stdout",
          "text": [
            "50\n"
          ]
        }
      ]
    },
    {
      "cell_type": "code",
      "execution_count": null,
      "id": "b9e43fbc",
      "metadata": {
        "id": "b9e43fbc"
      },
      "outputs": [],
      "source": [
        "cur.executemany('INSERT INTO Movie_info(movie_name,image,actor,userRating)VALUES(?,?,?,?)',list(zip(movie_list,image_list,actor_list,userRating_list)))\n",
        "conn.commit()"
      ]
    }
  ],
  "metadata": {
    "kernelspec": {
      "display_name": "Python 3 (ipykernel)",
      "language": "python",
      "name": "python3"
    },
    "language_info": {
      "codemirror_mode": {
        "name": "ipython",
        "version": 3
      },
      "file_extension": ".py",
      "mimetype": "text/x-python",
      "name": "python",
      "nbconvert_exporter": "python",
      "pygments_lexer": "ipython3",
      "version": "3.9.12"
    },
    "colab": {
      "provenance": []
    }
  },
  "nbformat": 4,
  "nbformat_minor": 5
}